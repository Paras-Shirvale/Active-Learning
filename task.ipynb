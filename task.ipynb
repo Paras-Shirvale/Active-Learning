{
 "cells": [
  {
   "cell_type": "markdown",
   "metadata": {},
   "source": [
    "## CS203 Lab 1\n",
    "\n",
    "### Team Number: 18\n",
    "* Name: Paras Prashant Shirvale\n",
    "* Roll No: 23110232 \n",
    "---\n",
    "* Name: Akshat Shah\n",
    "* Roll No: 23110293\n",
    "---"
   ]
  },
  {
   "cell_type": "markdown",
   "metadata": {},
   "source": [
    "### Task 1: Setup the Dataset"
   ]
  },
  {
   "cell_type": "markdown",
   "metadata": {},
   "source": [
    "1. Load the MNIST dataset using the Hugging Face datasets library."
   ]
  },
  {
   "cell_type": "code",
   "execution_count": 133,
   "metadata": {},
   "outputs": [],
   "source": [
    "import numpy as np\n",
    "from datasets import load_dataset"
   ]
  },
  {
   "cell_type": "code",
   "execution_count": 134,
   "metadata": {},
   "outputs": [
    {
     "name": "stdout",
     "output_type": "stream",
     "text": [
      "DatasetDict({\n",
      "    train: Dataset({\n",
      "        features: ['image', 'label'],\n",
      "        num_rows: 60000\n",
      "    })\n",
      "    test: Dataset({\n",
      "        features: ['image', 'label'],\n",
      "        num_rows: 10000\n",
      "    })\n",
      "})\n"
     ]
    }
   ],
   "source": [
    "# Load the MNIST dataset\n",
    "mnist = load_dataset(\"mnist\")\n",
    "\n",
    "# Check the structure of the dataset\n",
    "print(mnist)"
   ]
  },
  {
   "cell_type": "markdown",
   "metadata": {},
   "source": [
    "2. Convert the image data into Numpy arrays and normalize pixel values to the range [0,1]."
   ]
  },
  {
   "cell_type": "code",
   "execution_count": 135,
   "metadata": {},
   "outputs": [],
   "source": [
    "# Get the train and test datasets\n",
    "train_data = mnist['train']\n",
    "test_data = mnist['test']"
   ]
  },
  {
   "cell_type": "code",
   "execution_count": 136,
   "metadata": {},
   "outputs": [],
   "source": [
    "# Convert the images to numpy arrays and normalize them\n",
    "train_images = np.array(train_data['image'])\n",
    "test_images = np.array(test_data['image'])"
   ]
  },
  {
   "cell_type": "code",
   "execution_count": 137,
   "metadata": {},
   "outputs": [],
   "source": [
    "\n",
    "# Normalize the pixel values to the range [0, 1]\n",
    "train_images = train_images.astype(np.float32) / 255.0\n",
    "test_images = test_images.astype(np.float32) / 255.0"
   ]
  },
  {
   "cell_type": "code",
   "execution_count": 138,
   "metadata": {},
   "outputs": [
    {
     "name": "stdout",
     "output_type": "stream",
     "text": [
      "Train images shape: (60000, 28, 28)\n",
      "Test images shape: (10000, 28, 28)\n",
      "1.0 0.0\n"
     ]
    }
   ],
   "source": [
    "# Check the shape and max, min value of the data to verify\n",
    "print(f\"Train images shape: {train_images.shape}\")\n",
    "print(f\"Test images shape: {test_images.shape}\")\n",
    "print(max(train_images[0].flatten()), min(train_images[0].flatten()))"
   ]
  },
  {
   "cell_type": "markdown",
   "metadata": {},
   "source": [
    "3. Flatten each image into a vector of 784 features."
   ]
  },
  {
   "cell_type": "code",
   "execution_count": 139,
   "metadata": {},
   "outputs": [],
   "source": [
    "# Flatten each image into a vector of 784 features (28x28 = 784)\n",
    "train_images_flattened = train_images.reshape(train_images.shape[0], -1)  # shape: (num_samples, 784)\n",
    "test_images_flattened = test_images.reshape(test_images.shape[0], -1)  # shape: (num_samples, 784)"
   ]
  },
  {
   "cell_type": "code",
   "execution_count": 140,
   "metadata": {},
   "outputs": [
    {
     "name": "stdout",
     "output_type": "stream",
     "text": [
      "Train images shape after flattening: (60000, 784)\n",
      "Test images shape after flattening: (10000, 784)\n"
     ]
    }
   ],
   "source": [
    "# Check the shape of the flattened data\n",
    "print(f\"Train images shape after flattening: {train_images_flattened.shape}\")\n",
    "print(f\"Test images shape after flattening: {test_images_flattened.shape}\")"
   ]
  },
  {
   "cell_type": "markdown",
   "metadata": {},
   "source": [
    "4. Split the dataset into training and testing sets."
   ]
  },
  {
   "cell_type": "code",
   "execution_count": 141,
   "metadata": {},
   "outputs": [],
   "source": [
    "# Get the labels (digits)\n",
    "train_labels = np.array(train_data['label'])\n",
    "test_labels = np.array(test_data['label'])"
   ]
  },
  {
   "cell_type": "code",
   "execution_count": 142,
   "metadata": {},
   "outputs": [],
   "source": [
    "from sklearn.model_selection import train_test_split\n",
    "\n",
    "# Split the training data into training and validation sets (80% training, 20% validation)\n",
    "X_train, X_val, y_train, y_val = train_test_split(\n",
    "    train_images_flattened, train_labels, test_size=0.2, random_state=42\n",
    ")"
   ]
  },
  {
   "cell_type": "code",
   "execution_count": 143,
   "metadata": {},
   "outputs": [
    {
     "name": "stdout",
     "output_type": "stream",
     "text": [
      "Training data shape: (48000, 784)\n",
      "Validation data shape: (12000, 784)\n",
      "Test data shape: (10000, 784)\n"
     ]
    }
   ],
   "source": [
    "# Check the shape of the new splits\n",
    "print(f\"Training data shape: {X_train.shape}\")\n",
    "print(f\"Validation data shape: {X_val.shape}\")\n",
    "print(f\"Test data shape: {test_images_flattened.shape}\")"
   ]
  },
  {
   "cell_type": "markdown",
   "metadata": {},
   "source": [
    "5. Randomly select an initially labeled dataset of 200 samples from training samples."
   ]
  },
  {
   "cell_type": "code",
   "execution_count": 144,
   "metadata": {},
   "outputs": [],
   "source": [
    "# Randomly select 200 samples from the training set\n",
    "num_samples = 200\n",
    "random_indices = np.random.choice(train_images_flattened.shape[0], num_samples, replace=False)"
   ]
  },
  {
   "cell_type": "code",
   "execution_count": 145,
   "metadata": {},
   "outputs": [],
   "source": [
    "# Create the initially labeled dataset\n",
    "initial_images = train_images_flattened[random_indices]\n",
    "initial_labels = train_labels[random_indices]\n"
   ]
  },
  {
   "cell_type": "code",
   "execution_count": 146,
   "metadata": {},
   "outputs": [
    {
     "name": "stdout",
     "output_type": "stream",
     "text": [
      "Initial labeled dataset shape (images): (200, 784)\n",
      "Initial labeled dataset shape (labels): (200,)\n"
     ]
    }
   ],
   "source": [
    "# Check the shape of the selected dataset\n",
    "print(f\"Initial labeled dataset shape (images): {initial_images.shape}\")\n",
    "print(f\"Initial labeled dataset shape (labels): {initial_labels.shape}\")"
   ]
  },
  {
   "cell_type": "markdown",
   "metadata": {},
   "source": [
    "6. Generate an \"Unlabeled Pool,\" the Initial Dataset excluding 200 samples."
   ]
  },
  {
   "cell_type": "code",
   "execution_count": 147,
   "metadata": {},
   "outputs": [],
   "source": [
    "# Create the Unlabeled Pool by excluding the 200 selected samples\n",
    "unlabeled_images = np.delete(train_images_flattened, random_indices, axis=0)\n",
    "unlabeled_labels = np.delete(train_labels, random_indices, axis=0)"
   ]
  },
  {
   "cell_type": "code",
   "execution_count": 148,
   "metadata": {},
   "outputs": [
    {
     "name": "stdout",
     "output_type": "stream",
     "text": [
      "Unlabeled Pool shape (images): (59800, 784)\n",
      "Unlabeled Pool shape (labels): (59800,)\n"
     ]
    }
   ],
   "source": [
    "# Check the shape of the Unlabeled Pool\n",
    "print(f\"Unlabeled Pool shape (images): {unlabeled_images.shape}\")\n",
    "print(f\"Unlabeled Pool shape (labels): {unlabeled_labels.shape}\")"
   ]
  },
  {
   "cell_type": "markdown",
   "metadata": {},
   "source": [
    "### Task 2: Implement Random Sampling for Active Learning"
   ]
  },
  {
   "cell_type": "markdown",
   "metadata": {},
   "source": [
    "1. Train a Random Forest Classifier (you can use “from sklearn.ensemble import RandomForestClassifier”)  on the initial dataset of 200 samples."
   ]
  },
  {
   "cell_type": "code",
   "execution_count": 149,
   "metadata": {},
   "outputs": [],
   "source": [
    "from sklearn.ensemble import RandomForestClassifier\n",
    "from sklearn.metrics import accuracy_score"
   ]
  },
  {
   "cell_type": "code",
   "execution_count": 150,
   "metadata": {},
   "outputs": [],
   "source": [
    "# Initialize the Random Forest Classifier\n",
    "rf_classifier = RandomForestClassifier(n_estimators=100, random_state=42)"
   ]
  },
  {
   "cell_type": "code",
   "execution_count": 151,
   "metadata": {},
   "outputs": [
    {
     "data": {
      "text/plain": [
       "((200, 784), (200,))"
      ]
     },
     "execution_count": 151,
     "metadata": {},
     "output_type": "execute_result"
    }
   ],
   "source": [
    "initial_images.shape, initial_labels.shape"
   ]
  },
  {
   "cell_type": "code",
   "execution_count": 152,
   "metadata": {},
   "outputs": [
    {
     "data": {
      "text/html": [
       "<style>#sk-container-id-5 {\n",
       "  /* Definition of color scheme common for light and dark mode */\n",
       "  --sklearn-color-text: #000;\n",
       "  --sklearn-color-text-muted: #666;\n",
       "  --sklearn-color-line: gray;\n",
       "  /* Definition of color scheme for unfitted estimators */\n",
       "  --sklearn-color-unfitted-level-0: #fff5e6;\n",
       "  --sklearn-color-unfitted-level-1: #f6e4d2;\n",
       "  --sklearn-color-unfitted-level-2: #ffe0b3;\n",
       "  --sklearn-color-unfitted-level-3: chocolate;\n",
       "  /* Definition of color scheme for fitted estimators */\n",
       "  --sklearn-color-fitted-level-0: #f0f8ff;\n",
       "  --sklearn-color-fitted-level-1: #d4ebff;\n",
       "  --sklearn-color-fitted-level-2: #b3dbfd;\n",
       "  --sklearn-color-fitted-level-3: cornflowerblue;\n",
       "\n",
       "  /* Specific color for light theme */\n",
       "  --sklearn-color-text-on-default-background: var(--sg-text-color, var(--theme-code-foreground, var(--jp-content-font-color1, black)));\n",
       "  --sklearn-color-background: var(--sg-background-color, var(--theme-background, var(--jp-layout-color0, white)));\n",
       "  --sklearn-color-border-box: var(--sg-text-color, var(--theme-code-foreground, var(--jp-content-font-color1, black)));\n",
       "  --sklearn-color-icon: #696969;\n",
       "\n",
       "  @media (prefers-color-scheme: dark) {\n",
       "    /* Redefinition of color scheme for dark theme */\n",
       "    --sklearn-color-text-on-default-background: var(--sg-text-color, var(--theme-code-foreground, var(--jp-content-font-color1, white)));\n",
       "    --sklearn-color-background: var(--sg-background-color, var(--theme-background, var(--jp-layout-color0, #111)));\n",
       "    --sklearn-color-border-box: var(--sg-text-color, var(--theme-code-foreground, var(--jp-content-font-color1, white)));\n",
       "    --sklearn-color-icon: #878787;\n",
       "  }\n",
       "}\n",
       "\n",
       "#sk-container-id-5 {\n",
       "  color: var(--sklearn-color-text);\n",
       "}\n",
       "\n",
       "#sk-container-id-5 pre {\n",
       "  padding: 0;\n",
       "}\n",
       "\n",
       "#sk-container-id-5 input.sk-hidden--visually {\n",
       "  border: 0;\n",
       "  clip: rect(1px 1px 1px 1px);\n",
       "  clip: rect(1px, 1px, 1px, 1px);\n",
       "  height: 1px;\n",
       "  margin: -1px;\n",
       "  overflow: hidden;\n",
       "  padding: 0;\n",
       "  position: absolute;\n",
       "  width: 1px;\n",
       "}\n",
       "\n",
       "#sk-container-id-5 div.sk-dashed-wrapped {\n",
       "  border: 1px dashed var(--sklearn-color-line);\n",
       "  margin: 0 0.4em 0.5em 0.4em;\n",
       "  box-sizing: border-box;\n",
       "  padding-bottom: 0.4em;\n",
       "  background-color: var(--sklearn-color-background);\n",
       "}\n",
       "\n",
       "#sk-container-id-5 div.sk-container {\n",
       "  /* jupyter's `normalize.less` sets `[hidden] { display: none; }`\n",
       "     but bootstrap.min.css set `[hidden] { display: none !important; }`\n",
       "     so we also need the `!important` here to be able to override the\n",
       "     default hidden behavior on the sphinx rendered scikit-learn.org.\n",
       "     See: https://github.com/scikit-learn/scikit-learn/issues/21755 */\n",
       "  display: inline-block !important;\n",
       "  position: relative;\n",
       "}\n",
       "\n",
       "#sk-container-id-5 div.sk-text-repr-fallback {\n",
       "  display: none;\n",
       "}\n",
       "\n",
       "div.sk-parallel-item,\n",
       "div.sk-serial,\n",
       "div.sk-item {\n",
       "  /* draw centered vertical line to link estimators */\n",
       "  background-image: linear-gradient(var(--sklearn-color-text-on-default-background), var(--sklearn-color-text-on-default-background));\n",
       "  background-size: 2px 100%;\n",
       "  background-repeat: no-repeat;\n",
       "  background-position: center center;\n",
       "}\n",
       "\n",
       "/* Parallel-specific style estimator block */\n",
       "\n",
       "#sk-container-id-5 div.sk-parallel-item::after {\n",
       "  content: \"\";\n",
       "  width: 100%;\n",
       "  border-bottom: 2px solid var(--sklearn-color-text-on-default-background);\n",
       "  flex-grow: 1;\n",
       "}\n",
       "\n",
       "#sk-container-id-5 div.sk-parallel {\n",
       "  display: flex;\n",
       "  align-items: stretch;\n",
       "  justify-content: center;\n",
       "  background-color: var(--sklearn-color-background);\n",
       "  position: relative;\n",
       "}\n",
       "\n",
       "#sk-container-id-5 div.sk-parallel-item {\n",
       "  display: flex;\n",
       "  flex-direction: column;\n",
       "}\n",
       "\n",
       "#sk-container-id-5 div.sk-parallel-item:first-child::after {\n",
       "  align-self: flex-end;\n",
       "  width: 50%;\n",
       "}\n",
       "\n",
       "#sk-container-id-5 div.sk-parallel-item:last-child::after {\n",
       "  align-self: flex-start;\n",
       "  width: 50%;\n",
       "}\n",
       "\n",
       "#sk-container-id-5 div.sk-parallel-item:only-child::after {\n",
       "  width: 0;\n",
       "}\n",
       "\n",
       "/* Serial-specific style estimator block */\n",
       "\n",
       "#sk-container-id-5 div.sk-serial {\n",
       "  display: flex;\n",
       "  flex-direction: column;\n",
       "  align-items: center;\n",
       "  background-color: var(--sklearn-color-background);\n",
       "  padding-right: 1em;\n",
       "  padding-left: 1em;\n",
       "}\n",
       "\n",
       "\n",
       "/* Toggleable style: style used for estimator/Pipeline/ColumnTransformer box that is\n",
       "clickable and can be expanded/collapsed.\n",
       "- Pipeline and ColumnTransformer use this feature and define the default style\n",
       "- Estimators will overwrite some part of the style using the `sk-estimator` class\n",
       "*/\n",
       "\n",
       "/* Pipeline and ColumnTransformer style (default) */\n",
       "\n",
       "#sk-container-id-5 div.sk-toggleable {\n",
       "  /* Default theme specific background. It is overwritten whether we have a\n",
       "  specific estimator or a Pipeline/ColumnTransformer */\n",
       "  background-color: var(--sklearn-color-background);\n",
       "}\n",
       "\n",
       "/* Toggleable label */\n",
       "#sk-container-id-5 label.sk-toggleable__label {\n",
       "  cursor: pointer;\n",
       "  display: flex;\n",
       "  width: 100%;\n",
       "  margin-bottom: 0;\n",
       "  padding: 0.5em;\n",
       "  box-sizing: border-box;\n",
       "  text-align: center;\n",
       "  align-items: start;\n",
       "  justify-content: space-between;\n",
       "  gap: 0.5em;\n",
       "}\n",
       "\n",
       "#sk-container-id-5 label.sk-toggleable__label .caption {\n",
       "  font-size: 0.6rem;\n",
       "  font-weight: lighter;\n",
       "  color: var(--sklearn-color-text-muted);\n",
       "}\n",
       "\n",
       "#sk-container-id-5 label.sk-toggleable__label-arrow:before {\n",
       "  /* Arrow on the left of the label */\n",
       "  content: \"▸\";\n",
       "  float: left;\n",
       "  margin-right: 0.25em;\n",
       "  color: var(--sklearn-color-icon);\n",
       "}\n",
       "\n",
       "#sk-container-id-5 label.sk-toggleable__label-arrow:hover:before {\n",
       "  color: var(--sklearn-color-text);\n",
       "}\n",
       "\n",
       "/* Toggleable content - dropdown */\n",
       "\n",
       "#sk-container-id-5 div.sk-toggleable__content {\n",
       "  max-height: 0;\n",
       "  max-width: 0;\n",
       "  overflow: hidden;\n",
       "  text-align: left;\n",
       "  /* unfitted */\n",
       "  background-color: var(--sklearn-color-unfitted-level-0);\n",
       "}\n",
       "\n",
       "#sk-container-id-5 div.sk-toggleable__content.fitted {\n",
       "  /* fitted */\n",
       "  background-color: var(--sklearn-color-fitted-level-0);\n",
       "}\n",
       "\n",
       "#sk-container-id-5 div.sk-toggleable__content pre {\n",
       "  margin: 0.2em;\n",
       "  border-radius: 0.25em;\n",
       "  color: var(--sklearn-color-text);\n",
       "  /* unfitted */\n",
       "  background-color: var(--sklearn-color-unfitted-level-0);\n",
       "}\n",
       "\n",
       "#sk-container-id-5 div.sk-toggleable__content.fitted pre {\n",
       "  /* unfitted */\n",
       "  background-color: var(--sklearn-color-fitted-level-0);\n",
       "}\n",
       "\n",
       "#sk-container-id-5 input.sk-toggleable__control:checked~div.sk-toggleable__content {\n",
       "  /* Expand drop-down */\n",
       "  max-height: 200px;\n",
       "  max-width: 100%;\n",
       "  overflow: auto;\n",
       "}\n",
       "\n",
       "#sk-container-id-5 input.sk-toggleable__control:checked~label.sk-toggleable__label-arrow:before {\n",
       "  content: \"▾\";\n",
       "}\n",
       "\n",
       "/* Pipeline/ColumnTransformer-specific style */\n",
       "\n",
       "#sk-container-id-5 div.sk-label input.sk-toggleable__control:checked~label.sk-toggleable__label {\n",
       "  color: var(--sklearn-color-text);\n",
       "  background-color: var(--sklearn-color-unfitted-level-2);\n",
       "}\n",
       "\n",
       "#sk-container-id-5 div.sk-label.fitted input.sk-toggleable__control:checked~label.sk-toggleable__label {\n",
       "  background-color: var(--sklearn-color-fitted-level-2);\n",
       "}\n",
       "\n",
       "/* Estimator-specific style */\n",
       "\n",
       "/* Colorize estimator box */\n",
       "#sk-container-id-5 div.sk-estimator input.sk-toggleable__control:checked~label.sk-toggleable__label {\n",
       "  /* unfitted */\n",
       "  background-color: var(--sklearn-color-unfitted-level-2);\n",
       "}\n",
       "\n",
       "#sk-container-id-5 div.sk-estimator.fitted input.sk-toggleable__control:checked~label.sk-toggleable__label {\n",
       "  /* fitted */\n",
       "  background-color: var(--sklearn-color-fitted-level-2);\n",
       "}\n",
       "\n",
       "#sk-container-id-5 div.sk-label label.sk-toggleable__label,\n",
       "#sk-container-id-5 div.sk-label label {\n",
       "  /* The background is the default theme color */\n",
       "  color: var(--sklearn-color-text-on-default-background);\n",
       "}\n",
       "\n",
       "/* On hover, darken the color of the background */\n",
       "#sk-container-id-5 div.sk-label:hover label.sk-toggleable__label {\n",
       "  color: var(--sklearn-color-text);\n",
       "  background-color: var(--sklearn-color-unfitted-level-2);\n",
       "}\n",
       "\n",
       "/* Label box, darken color on hover, fitted */\n",
       "#sk-container-id-5 div.sk-label.fitted:hover label.sk-toggleable__label.fitted {\n",
       "  color: var(--sklearn-color-text);\n",
       "  background-color: var(--sklearn-color-fitted-level-2);\n",
       "}\n",
       "\n",
       "/* Estimator label */\n",
       "\n",
       "#sk-container-id-5 div.sk-label label {\n",
       "  font-family: monospace;\n",
       "  font-weight: bold;\n",
       "  display: inline-block;\n",
       "  line-height: 1.2em;\n",
       "}\n",
       "\n",
       "#sk-container-id-5 div.sk-label-container {\n",
       "  text-align: center;\n",
       "}\n",
       "\n",
       "/* Estimator-specific */\n",
       "#sk-container-id-5 div.sk-estimator {\n",
       "  font-family: monospace;\n",
       "  border: 1px dotted var(--sklearn-color-border-box);\n",
       "  border-radius: 0.25em;\n",
       "  box-sizing: border-box;\n",
       "  margin-bottom: 0.5em;\n",
       "  /* unfitted */\n",
       "  background-color: var(--sklearn-color-unfitted-level-0);\n",
       "}\n",
       "\n",
       "#sk-container-id-5 div.sk-estimator.fitted {\n",
       "  /* fitted */\n",
       "  background-color: var(--sklearn-color-fitted-level-0);\n",
       "}\n",
       "\n",
       "/* on hover */\n",
       "#sk-container-id-5 div.sk-estimator:hover {\n",
       "  /* unfitted */\n",
       "  background-color: var(--sklearn-color-unfitted-level-2);\n",
       "}\n",
       "\n",
       "#sk-container-id-5 div.sk-estimator.fitted:hover {\n",
       "  /* fitted */\n",
       "  background-color: var(--sklearn-color-fitted-level-2);\n",
       "}\n",
       "\n",
       "/* Specification for estimator info (e.g. \"i\" and \"?\") */\n",
       "\n",
       "/* Common style for \"i\" and \"?\" */\n",
       "\n",
       ".sk-estimator-doc-link,\n",
       "a:link.sk-estimator-doc-link,\n",
       "a:visited.sk-estimator-doc-link {\n",
       "  float: right;\n",
       "  font-size: smaller;\n",
       "  line-height: 1em;\n",
       "  font-family: monospace;\n",
       "  background-color: var(--sklearn-color-background);\n",
       "  border-radius: 1em;\n",
       "  height: 1em;\n",
       "  width: 1em;\n",
       "  text-decoration: none !important;\n",
       "  margin-left: 0.5em;\n",
       "  text-align: center;\n",
       "  /* unfitted */\n",
       "  border: var(--sklearn-color-unfitted-level-1) 1pt solid;\n",
       "  color: var(--sklearn-color-unfitted-level-1);\n",
       "}\n",
       "\n",
       ".sk-estimator-doc-link.fitted,\n",
       "a:link.sk-estimator-doc-link.fitted,\n",
       "a:visited.sk-estimator-doc-link.fitted {\n",
       "  /* fitted */\n",
       "  border: var(--sklearn-color-fitted-level-1) 1pt solid;\n",
       "  color: var(--sklearn-color-fitted-level-1);\n",
       "}\n",
       "\n",
       "/* On hover */\n",
       "div.sk-estimator:hover .sk-estimator-doc-link:hover,\n",
       ".sk-estimator-doc-link:hover,\n",
       "div.sk-label-container:hover .sk-estimator-doc-link:hover,\n",
       ".sk-estimator-doc-link:hover {\n",
       "  /* unfitted */\n",
       "  background-color: var(--sklearn-color-unfitted-level-3);\n",
       "  color: var(--sklearn-color-background);\n",
       "  text-decoration: none;\n",
       "}\n",
       "\n",
       "div.sk-estimator.fitted:hover .sk-estimator-doc-link.fitted:hover,\n",
       ".sk-estimator-doc-link.fitted:hover,\n",
       "div.sk-label-container:hover .sk-estimator-doc-link.fitted:hover,\n",
       ".sk-estimator-doc-link.fitted:hover {\n",
       "  /* fitted */\n",
       "  background-color: var(--sklearn-color-fitted-level-3);\n",
       "  color: var(--sklearn-color-background);\n",
       "  text-decoration: none;\n",
       "}\n",
       "\n",
       "/* Span, style for the box shown on hovering the info icon */\n",
       ".sk-estimator-doc-link span {\n",
       "  display: none;\n",
       "  z-index: 9999;\n",
       "  position: relative;\n",
       "  font-weight: normal;\n",
       "  right: .2ex;\n",
       "  padding: .5ex;\n",
       "  margin: .5ex;\n",
       "  width: min-content;\n",
       "  min-width: 20ex;\n",
       "  max-width: 50ex;\n",
       "  color: var(--sklearn-color-text);\n",
       "  box-shadow: 2pt 2pt 4pt #999;\n",
       "  /* unfitted */\n",
       "  background: var(--sklearn-color-unfitted-level-0);\n",
       "  border: .5pt solid var(--sklearn-color-unfitted-level-3);\n",
       "}\n",
       "\n",
       ".sk-estimator-doc-link.fitted span {\n",
       "  /* fitted */\n",
       "  background: var(--sklearn-color-fitted-level-0);\n",
       "  border: var(--sklearn-color-fitted-level-3);\n",
       "}\n",
       "\n",
       ".sk-estimator-doc-link:hover span {\n",
       "  display: block;\n",
       "}\n",
       "\n",
       "/* \"?\"-specific style due to the `<a>` HTML tag */\n",
       "\n",
       "#sk-container-id-5 a.estimator_doc_link {\n",
       "  float: right;\n",
       "  font-size: 1rem;\n",
       "  line-height: 1em;\n",
       "  font-family: monospace;\n",
       "  background-color: var(--sklearn-color-background);\n",
       "  border-radius: 1rem;\n",
       "  height: 1rem;\n",
       "  width: 1rem;\n",
       "  text-decoration: none;\n",
       "  /* unfitted */\n",
       "  color: var(--sklearn-color-unfitted-level-1);\n",
       "  border: var(--sklearn-color-unfitted-level-1) 1pt solid;\n",
       "}\n",
       "\n",
       "#sk-container-id-5 a.estimator_doc_link.fitted {\n",
       "  /* fitted */\n",
       "  border: var(--sklearn-color-fitted-level-1) 1pt solid;\n",
       "  color: var(--sklearn-color-fitted-level-1);\n",
       "}\n",
       "\n",
       "/* On hover */\n",
       "#sk-container-id-5 a.estimator_doc_link:hover {\n",
       "  /* unfitted */\n",
       "  background-color: var(--sklearn-color-unfitted-level-3);\n",
       "  color: var(--sklearn-color-background);\n",
       "  text-decoration: none;\n",
       "}\n",
       "\n",
       "#sk-container-id-5 a.estimator_doc_link.fitted:hover {\n",
       "  /* fitted */\n",
       "  background-color: var(--sklearn-color-fitted-level-3);\n",
       "}\n",
       "</style><div id=\"sk-container-id-5\" class=\"sk-top-container\"><div class=\"sk-text-repr-fallback\"><pre>RandomForestClassifier(random_state=42)</pre><b>In a Jupyter environment, please rerun this cell to show the HTML representation or trust the notebook. <br />On GitHub, the HTML representation is unable to render, please try loading this page with nbviewer.org.</b></div><div class=\"sk-container\" hidden><div class=\"sk-item\"><div class=\"sk-estimator fitted sk-toggleable\"><input class=\"sk-toggleable__control sk-hidden--visually\" id=\"sk-estimator-id-5\" type=\"checkbox\" checked><label for=\"sk-estimator-id-5\" class=\"sk-toggleable__label fitted sk-toggleable__label-arrow\"><div><div>RandomForestClassifier</div></div><div><a class=\"sk-estimator-doc-link fitted\" rel=\"noreferrer\" target=\"_blank\" href=\"https://scikit-learn.org/1.6/modules/generated/sklearn.ensemble.RandomForestClassifier.html\">?<span>Documentation for RandomForestClassifier</span></a><span class=\"sk-estimator-doc-link fitted\">i<span>Fitted</span></span></div></label><div class=\"sk-toggleable__content fitted\"><pre>RandomForestClassifier(random_state=42)</pre></div> </div></div></div></div>"
      ],
      "text/plain": [
       "RandomForestClassifier(random_state=42)"
      ]
     },
     "execution_count": 152,
     "metadata": {},
     "output_type": "execute_result"
    }
   ],
   "source": [
    "# Train the model on the initial labeled dataset (200 samples)\n",
    "rf_classifier.fit(initial_images, initial_labels)"
   ]
  },
  {
   "cell_type": "code",
   "execution_count": 153,
   "metadata": {},
   "outputs": [
    {
     "name": "stdout",
     "output_type": "stream",
     "text": [
      "Accuracy on Test Pool: 79.85%\n"
     ]
    }
   ],
   "source": [
    "# Evaluate the model on the Test Pool (10,000 samples)\n",
    "# We will use the accuracy score to see how well the model performs\n",
    "predicted_labels = rf_classifier.predict(test_images_flattened)\n",
    "\n",
    "# Optionally, calculate accuracy (here we're using the true labels to compute accuracy)\n",
    "accuracy = accuracy_score(test_labels, predicted_labels)\n",
    "\n",
    "print(f\"Accuracy on Test Pool: {accuracy * 100:.2f}%\")"
   ]
  },
  {
   "cell_type": "code",
   "execution_count": 154,
   "metadata": {},
   "outputs": [
    {
     "name": "stdout",
     "output_type": "stream",
     "text": [
      "Accuracy on Unlabeled Pool: 78.35%\n"
     ]
    }
   ],
   "source": [
    "# Evaluate the model on the Unlabeled Pool (remaining 58,800 samples)\n",
    "# We will use the accuracy score to see how well the model performs\n",
    "predicted_labels = rf_classifier.predict(unlabeled_images)\n",
    "\n",
    "# Optionally, calculate accuracy (here we're using the true labels to compute accuracy)\n",
    "accuracy = accuracy_score(unlabeled_labels, predicted_labels)\n",
    "\n",
    "print(f\"Accuracy on Unlabeled Pool: {accuracy * 100:.2f}%\")"
   ]
  },
  {
   "cell_type": "markdown",
   "metadata": {},
   "source": [
    "2. Implement an active learning loop for 20 iterations:\n",
    "* Randomly select a sample from the unlabeled pool.\n",
    "* Get the selected sample and its true label.\n",
    "* Add the sample and label to the labeled dataset.\n",
    "* Remove the selected sample and label from the pool.\n",
    "* Retrain the model on the updated dataset.\n",
    "* Check the model's accuracy on the test set.\n",
    "* Print accuracy after every iteration.\n"
   ]
  },
  {
   "cell_type": "code",
   "execution_count": 155,
   "metadata": {},
   "outputs": [
    {
     "name": "stdout",
     "output_type": "stream",
     "text": [
      "Iteration 1/20 - Test Accuracy: 79.25%\n",
      "Iteration 2/20 - Test Accuracy: 78.29%\n",
      "Iteration 3/20 - Test Accuracy: 78.90%\n",
      "Iteration 4/20 - Test Accuracy: 79.10%\n",
      "Iteration 5/20 - Test Accuracy: 78.04%\n",
      "Iteration 6/20 - Test Accuracy: 77.95%\n",
      "Iteration 7/20 - Test Accuracy: 78.67%\n",
      "Iteration 8/20 - Test Accuracy: 79.07%\n",
      "Iteration 9/20 - Test Accuracy: 78.89%\n",
      "Iteration 10/20 - Test Accuracy: 79.36%\n",
      "Iteration 11/20 - Test Accuracy: 78.95%\n",
      "Iteration 12/20 - Test Accuracy: 79.28%\n",
      "Iteration 13/20 - Test Accuracy: 78.90%\n",
      "Iteration 14/20 - Test Accuracy: 79.28%\n",
      "Iteration 15/20 - Test Accuracy: 78.13%\n",
      "Iteration 16/20 - Test Accuracy: 79.11%\n",
      "Iteration 17/20 - Test Accuracy: 79.02%\n",
      "Iteration 18/20 - Test Accuracy: 79.70%\n",
      "Iteration 19/20 - Test Accuracy: 79.15%\n",
      "Iteration 20/20 - Test Accuracy: 79.67%\n"
     ]
    }
   ],
   "source": [
    "# Initialize the Random Forest Classifier\n",
    "rf_classifier = RandomForestClassifier(n_estimators=100, random_state=42)\n",
    "random_sampling_accuracies = []\n",
    "\n",
    "# Active learning loop for 20 iterations\n",
    "num_iterations = 20\n",
    "for iteration in range(num_iterations):\n",
    "    # Step 1: Randomly select a sample from the unlabeled pool\n",
    "    random_index = np.random.choice(unlabeled_images.shape[0], 1, replace=False)\n",
    "    selected_image = unlabeled_images[random_index]\n",
    "    selected_label = unlabeled_labels[random_index]\n",
    "\n",
    "    # Step 2: Add the selected sample and its label to the labeled dataset\n",
    "    initial_images = np.vstack([initial_images, selected_image])\n",
    "    initial_labels = np.append(initial_labels, selected_label)\n",
    "\n",
    "    # Step 3: Remove the selected sample and label from the unlabeled pool\n",
    "    unlabeled_images = np.delete(unlabeled_images, random_index, axis=0)\n",
    "    unlabeled_labels = np.delete(unlabeled_labels, random_index, axis=0)\n",
    "\n",
    "    # Step 4: Retrain the model on the updated dataset\n",
    "    rf_classifier.fit(initial_images, initial_labels)\n",
    "\n",
    "    # Step 5: Evaluate the model on the test set\n",
    "    predicted_labels_test = rf_classifier.predict(test_images_flattened)\n",
    "    accuracy_test = accuracy_score(test_labels, predicted_labels_test)\n",
    "    random_sampling_accuracies.append(accuracy_test)\n",
    "\n",
    "    # Step 6: Print accuracy after every iteration\n",
    "    print(f\"Iteration {iteration+1}/{num_iterations} - Test Accuracy: {accuracy_test * 100:.2f}%\")\n"
   ]
  },
  {
   "cell_type": "markdown",
   "metadata": {},
   "source": [
    "### Task 3: Implement Uncertainty Sampling for Active Learning."
   ]
  },
  {
   "cell_type": "markdown",
   "metadata": {},
   "source": [
    "1. Train a Random Forest Classifier (you can use “from sklearn.ensemble import RandomForestClassifier”)  on the initial dataset of 200 samples."
   ]
  },
  {
   "cell_type": "code",
   "execution_count": 156,
   "metadata": {},
   "outputs": [],
   "source": [
    "# Randomly select 200 samples from the training set\n",
    "num_samples = 200\n",
    "random_indices = np.random.choice(train_images_flattened.shape[0], num_samples, replace=False)\n",
    "\n",
    "# Create the initially labeled dataset\n",
    "initial_images = train_images_flattened[random_indices]\n",
    "initial_labels = train_labels[random_indices]"
   ]
  },
  {
   "cell_type": "code",
   "execution_count": 157,
   "metadata": {},
   "outputs": [
    {
     "name": "stdout",
     "output_type": "stream",
     "text": [
      "Accuracy on Test Set after training on 200 samples: 80.38%\n"
     ]
    }
   ],
   "source": [
    "# Initialize the Random Forest Classifier\n",
    "rf_classifier = RandomForestClassifier(n_estimators=100, random_state=42)\n",
    "\n",
    "# Train the model on the initial labeled dataset (200 samples)\n",
    "rf_classifier.fit(initial_images, initial_labels)\n",
    "\n",
    "# Predict the labels on the test dataset\n",
    "predicted_labels_test = rf_classifier.predict(test_images_flattened)\n",
    "\n",
    "# Calculate the accuracy on the test dataset\n",
    "accuracy_test = accuracy_score(test_labels, predicted_labels_test)\n",
    "\n",
    "# Print the accuracy\n",
    "print(f\"Accuracy on Test Set after training on 200 samples: {accuracy_test * 100:.2f}%\")"
   ]
  },
  {
   "cell_type": "markdown",
   "metadata": {},
   "source": [
    "2. Implement an active learning loop for 20 iterations:\n",
    "* Compute uncertainty (Label Entropy) for each sample in the unlabeled pool using entropy.\n",
    "* Select the sample with the highest uncertainty and query its true label.\n",
    "* Add the queried sample to the labelled dataset and remove it from the unlabelled pool.\n",
    "* Retrain the model and check the model's accuracy on the test set.\n",
    "* Print accuracy after every iteration.\n"
   ]
  },
  {
   "cell_type": "code",
   "execution_count": 158,
   "metadata": {},
   "outputs": [
    {
     "name": "stdout",
     "output_type": "stream",
     "text": [
      "Test Accuracy after iteration 1: 80.23%\n",
      "Test Accuracy after iteration 2: 80.19%\n",
      "Test Accuracy after iteration 3: 80.75%\n",
      "Test Accuracy after iteration 4: 81.03%\n",
      "Test Accuracy after iteration 5: 80.65%\n",
      "Test Accuracy after iteration 6: 81.11%\n",
      "Test Accuracy after iteration 7: 80.96%\n",
      "Test Accuracy after iteration 8: 80.84%\n",
      "Test Accuracy after iteration 9: 80.98%\n",
      "Test Accuracy after iteration 10: 80.51%\n",
      "Test Accuracy after iteration 11: 80.82%\n",
      "Test Accuracy after iteration 12: 80.72%\n",
      "Test Accuracy after iteration 13: 81.10%\n",
      "Test Accuracy after iteration 14: 80.82%\n",
      "Test Accuracy after iteration 15: 80.51%\n",
      "Test Accuracy after iteration 16: 80.80%\n",
      "Test Accuracy after iteration 17: 80.75%\n",
      "Test Accuracy after iteration 18: 80.67%\n",
      "Test Accuracy after iteration 19: 80.79%\n",
      "Test Accuracy after iteration 20: 80.98%\n"
     ]
    }
   ],
   "source": [
    "# Function to compute Label Entropy\n",
    "def label_entropy(labels):\n",
    "    unique_labels, counts = np.unique(labels, return_counts=True)\n",
    "    probabilities = counts / len(labels)\n",
    "    entropy = -np.sum(probabilities * np.log2(probabilities))\n",
    "    return entropy\n",
    "\n",
    "# Initialize the Random Forest Classifier\n",
    "rf_classifier = RandomForestClassifier(n_estimators=100, random_state=42)\n",
    "uncertainty_sampling_accuracies = []\n",
    "\n",
    "# Active learning loop for 20 iterations\n",
    "num_iterations = 20\n",
    "for iteration in range(num_iterations):\n",
    "    \n",
    "    # Step 1: Compute Label Entropy for each sample in the unlabeled pool\n",
    "    label_entropies = np.array([label_entropy(unlabeled_images[i].flatten()) for i in range(unlabeled_images.shape[0])])\n",
    "    \n",
    "    # Step 2: Select the sample with the highest entropy (highest uncertainty)\n",
    "    uncertain_sample_index = np.argmax(label_entropies) \n",
    "    selected_image = unlabeled_images[uncertain_sample_index]\n",
    "    selected_label = unlabeled_labels[uncertain_sample_index]\n",
    "    \n",
    "    # Step 3: Add the selected sample and label to the labeled dataset\n",
    "    initial_images = np.vstack([initial_images, selected_image])\n",
    "    initial_labels = np.append(initial_labels, selected_label)\n",
    "    \n",
    "    # Step 4: Remove the selected sample and label from the unlabeled pool\n",
    "    unlabeled_images = np.delete(unlabeled_images, uncertain_sample_index, axis=0)\n",
    "    unlabeled_labels = np.delete(unlabeled_labels, uncertain_sample_index, axis=0)\n",
    "    \n",
    "    # Step 5: Retrain the model on the updated labeled dataset\n",
    "    rf_classifier.fit(initial_images, initial_labels)\n",
    "    \n",
    "    # Step 6: Evaluate the model on the test set\n",
    "    predicted_labels_test = rf_classifier.predict(test_images_flattened)\n",
    "    accuracy_test = accuracy_score(test_labels, predicted_labels_test)\n",
    "    uncertainty_sampling_accuracies.append(accuracy_test)\n",
    "    \n",
    "    # Step 7: Print the accuracy after every iteration\n",
    "    print(f\"Test Accuracy after iteration {iteration + 1}: {accuracy_test * 100:.2f}%\")\n"
   ]
  },
  {
   "cell_type": "markdown",
   "metadata": {},
   "source": [
    "### Task 4: Implement Query-by-Committee for Active Learning"
   ]
  },
  {
   "cell_type": "markdown",
   "metadata": {},
   "source": [
    "1. Initialize a committee of 5 Random Forest models, each trained on the initial dataset.\n"
   ]
  },
  {
   "cell_type": "code",
   "execution_count": 159,
   "metadata": {},
   "outputs": [
    {
     "name": "stdout",
     "output_type": "stream",
     "text": [
      "Committee of 5 Random Forest models initialized and trained.\n"
     ]
    }
   ],
   "source": [
    "# Number of models in the committee\n",
    "num_models = 5\n",
    "\n",
    "# Initialize an empty list to hold the models (the committee)\n",
    "committee = []\n",
    "\n",
    "# Initialize and train 5 Random Forest models on the initial dataset\n",
    "for _ in range(num_models):\n",
    "    rf_classifier = RandomForestClassifier(n_estimators=100, random_state=42)\n",
    "    rf_classifier.fit(initial_images, initial_labels)\n",
    "    committee.append(rf_classifier)  # Add the trained model to the committee\n",
    "\n",
    "# Print out the number of models in the committee\n",
    "print(f\"Committee of {len(committee)} Random Forest models initialized and trained.\")\n"
   ]
  },
  {
   "cell_type": "markdown",
   "metadata": {},
   "source": [
    "2. In the active learning loop for 20 iterations:\n",
    "* For each unlabeled sample, compute predictions from all committee members.\n",
    "* Measure disagreement by calculating Vote Entropy.\n",
    "* Select the sample with the highest disagreement and query its true label.\n",
    "* Update the labelled dataset and retrain all models.\n",
    "* Check the model's accuracy on the test set.\n",
    "* Print accuracy after every iteration\n"
   ]
  },
  {
   "cell_type": "code",
   "execution_count": 160,
   "metadata": {},
   "outputs": [],
   "source": [
    "# Function to compute Vote Entropy for a given set of predictions\n",
    "def vote_entropy(predictions):\n",
    "    total_entropy = 0\n",
    "    for sample_predictions in predictions:\n",
    "        unique_votes, counts = np.unique(sample_predictions, return_counts=True)\n",
    "        probabilities = counts / len(sample_predictions)\n",
    "        sample_entropy = -np.sum(probabilities * np.log2(probabilities))\n",
    "        total_entropy += sample_entropy\n",
    "    return total_entropy / len(predictions)"
   ]
  },
  {
   "cell_type": "code",
   "execution_count": 161,
   "metadata": {},
   "outputs": [
    {
     "name": "stdout",
     "output_type": "stream",
     "text": [
      "Test Accuracy after iteration 1: 80.72%\n",
      "Test Accuracy after iteration 2: 80.58%\n",
      "Test Accuracy after iteration 3: 80.86%\n",
      "Test Accuracy after iteration 4: 80.43%\n",
      "Test Accuracy after iteration 5: 80.36%\n",
      "Test Accuracy after iteration 6: 80.19%\n",
      "Test Accuracy after iteration 7: 80.16%\n",
      "Test Accuracy after iteration 8: 80.59%\n",
      "Test Accuracy after iteration 9: 80.73%\n",
      "Test Accuracy after iteration 10: 79.88%\n",
      "Test Accuracy after iteration 11: 79.88%\n",
      "Test Accuracy after iteration 12: 79.96%\n",
      "Test Accuracy after iteration 13: 80.68%\n",
      "Test Accuracy after iteration 14: 80.66%\n",
      "Test Accuracy after iteration 15: 80.78%\n",
      "Test Accuracy after iteration 16: 80.60%\n",
      "Test Accuracy after iteration 17: 80.21%\n",
      "Test Accuracy after iteration 18: 80.36%\n",
      "Test Accuracy after iteration 19: 80.19%\n",
      "Test Accuracy after iteration 20: 80.75%\n"
     ]
    }
   ],
   "source": [
    "# Active learning loop for 20 iterations\n",
    "num_iterations = 20\n",
    "committee_sampling_accuracies = []\n",
    "\n",
    "for iteration in range(num_iterations):\n",
    "    \n",
    "    # Step 1: Compute predictions from all committee members for each sample in the unlabeled pool\n",
    "    committee_predictions = np.array([model.predict(unlabeled_images) for model in committee]).T  # Shape: (num_samples, num_models)\n",
    "    \n",
    "    # Step 2: Calculate Vote Entropy for each sample in the unlabeled pool\n",
    "    vote_entropies = np.array([vote_entropy(committee_predictions[i:i+1]) for i in range(committee_predictions.shape[0])])\n",
    "    \n",
    "    # Step 3: Select the sample with the highest Vote Entropy (highest disagreement)\n",
    "    uncertain_sample_index = np.argmax(vote_entropies)\n",
    "    selected_image = unlabeled_images[uncertain_sample_index]\n",
    "    selected_label = unlabeled_labels[uncertain_sample_index]\n",
    "    \n",
    "    # Step 4: Add the selected sample and its true label to the labeled dataset\n",
    "    initial_images = np.vstack([initial_images, selected_image])\n",
    "    initial_labels = np.append(initial_labels, selected_label)\n",
    "    \n",
    "    # Step 5: Remove the selected sample and label from the unlabeled pool\n",
    "    unlabeled_images = np.delete(unlabeled_images, uncertain_sample_index, axis=0)\n",
    "    unlabeled_labels = np.delete(unlabeled_labels, uncertain_sample_index, axis=0)\n",
    "    \n",
    "    # Step 6: Retrain all models in the committee on the updated labeled dataset\n",
    "    for model in committee:\n",
    "        model.fit(initial_images, initial_labels)\n",
    "    \n",
    "    # Step 7: Evaluate the model on the test set\n",
    "    test_predictions = np.array([model.predict(test_images_flattened) for model in committee]).T\n",
    "    test_accuracy = accuracy_score(test_labels, test_predictions.mean(axis=1).round())  # Majority vote from the committee\n",
    "    committee_sampling_accuracies.append(test_accuracy)\n",
    "    \n",
    "    # Step 8: Print accuracy after every iteration\n",
    "    print(f\"Test Accuracy after iteration {iteration + 1}: {test_accuracy * 100:.2f}%\")"
   ]
  },
  {
   "cell_type": "markdown",
   "metadata": {},
   "source": [
    "### Task 5 : Evaluation & Report"
   ]
  },
  {
   "cell_type": "markdown",
   "metadata": {},
   "source": [
    "* Compare the final model accuracy across all three strategies.\n",
    "* Plots the graph of accuracies for all three methods for 20 iterations.\n",
    "* Analyze which method leads to the most cost-effective improvement in accuracy.\n",
    "* Discuss findings and limitations in a brief report."
   ]
  },
  {
   "cell_type": "code",
   "execution_count": 1,
   "metadata": {},
   "outputs": [],
   "source": [
    "import matplotlib.pyplot as plt"
   ]
  },
  {
   "cell_type": "code",
   "execution_count": null,
   "metadata": {},
   "outputs": [],
   "source": []
  }
 ],
 "metadata": {
  "kernelspec": {
   "display_name": "Python 3",
   "language": "python",
   "name": "python3"
  },
  "language_info": {
   "codemirror_mode": {
    "name": "ipython",
    "version": 3
   },
   "file_extension": ".py",
   "mimetype": "text/x-python",
   "name": "python",
   "nbconvert_exporter": "python",
   "pygments_lexer": "ipython3",
   "version": "3.12.6"
  }
 },
 "nbformat": 4,
 "nbformat_minor": 2
}
