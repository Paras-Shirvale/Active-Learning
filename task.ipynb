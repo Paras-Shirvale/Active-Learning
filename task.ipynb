{
 "cells": [
  {
   "cell_type": "markdown",
   "metadata": {},
   "source": [
    "## CS203 Lab 1\n",
    "\n",
    "### Team Number: 18\n",
    "* Name: Paras Prashant Shirvale\n",
    "* Roll No: 23110232 \n",
    "---\n",
    "* Name: Akshat Shah\n",
    "* Roll No: 23110293\n",
    "---"
   ]
  },
  {
   "cell_type": "markdown",
   "metadata": {},
   "source": [
    "### Task 1: Setup the Dataset"
   ]
  },
  {
   "cell_type": "markdown",
   "metadata": {},
   "source": [
    "Load the MNIST dataset using the Hugging Face datasets library."
   ]
  },
  {
   "cell_type": "code",
   "execution_count": 1,
   "metadata": {},
   "outputs": [
    {
     "name": "stderr",
     "output_type": "stream",
     "text": [
      "C:\\Users\\Paras Shirvale\\AppData\\Roaming\\Python\\Python312\\site-packages\\tqdm\\auto.py:21: TqdmWarning: IProgress not found. Please update jupyter and ipywidgets. See https://ipywidgets.readthedocs.io/en/stable/user_install.html\n",
      "  from .autonotebook import tqdm as notebook_tqdm\n"
     ]
    }
   ],
   "source": [
    "import numpy as np\n",
    "from datasets import load_dataset"
   ]
  },
  {
   "cell_type": "code",
   "execution_count": 2,
   "metadata": {},
   "outputs": [
    {
     "name": "stdout",
     "output_type": "stream",
     "text": [
      "DatasetDict({\n",
      "    train: Dataset({\n",
      "        features: ['image', 'label'],\n",
      "        num_rows: 60000\n",
      "    })\n",
      "    test: Dataset({\n",
      "        features: ['image', 'label'],\n",
      "        num_rows: 10000\n",
      "    })\n",
      "})\n"
     ]
    }
   ],
   "source": [
    "# Load the MNIST dataset\n",
    "mnist = load_dataset(\"mnist\")\n",
    "\n",
    "# Check the structure of the dataset\n",
    "print(mnist)"
   ]
  },
  {
   "cell_type": "markdown",
   "metadata": {},
   "source": [
    "Split the dataset into training and testing sets. And then convert the image data into Numpy arrays and normalize pixel values to the range [0,1]."
   ]
  },
  {
   "cell_type": "code",
   "execution_count": 3,
   "metadata": {},
   "outputs": [],
   "source": [
    "# Get the train and test datasets\n",
    "train_data = mnist['train']\n",
    "test_data = mnist['test']"
   ]
  },
  {
   "cell_type": "code",
   "execution_count": 4,
   "metadata": {},
   "outputs": [],
   "source": [
    "# Convert the images to numpy arrays and normalize them\n",
    "train_images = np.array(train_data['image'])\n",
    "test_images = np.array(test_data['image'])"
   ]
  },
  {
   "cell_type": "code",
   "execution_count": 5,
   "metadata": {},
   "outputs": [],
   "source": [
    "\n",
    "# Normalize the pixel values to the range [0, 1]\n",
    "train_images = train_images.astype(np.float32) / 255.0\n",
    "test_images = test_images.astype(np.float32) / 255.0"
   ]
  },
  {
   "cell_type": "code",
   "execution_count": 6,
   "metadata": {},
   "outputs": [
    {
     "name": "stdout",
     "output_type": "stream",
     "text": [
      "Train images shape: (60000, 28, 28)\n",
      "Test images shape: (10000, 28, 28)\n"
     ]
    }
   ],
   "source": [
    "# Check the shape and max, min value of the data to verify\n",
    "print(f\"Train images shape: {train_images.shape}\")\n",
    "print(f\"Test images shape: {test_images.shape}\")"
   ]
  },
  {
   "cell_type": "markdown",
   "metadata": {},
   "source": [
    "Flatten each image into a vector of 784 features."
   ]
  },
  {
   "cell_type": "code",
   "execution_count": 7,
   "metadata": {},
   "outputs": [],
   "source": [
    "# Flatten each image into a vector of 784 features (28x28 = 784)\n",
    "train_images_flattened = train_images.reshape(train_images.shape[0], -1)  # shape: (num_samples, 784)\n",
    "test_images_flattened = test_images.reshape(test_images.shape[0], -1)  # shape: (num_samples, 784)"
   ]
  },
  {
   "cell_type": "code",
   "execution_count": 8,
   "metadata": {},
   "outputs": [
    {
     "name": "stdout",
     "output_type": "stream",
     "text": [
      "Train images shape after flattening: (60000, 784)\n",
      "Test images shape after flattening: (10000, 784)\n"
     ]
    }
   ],
   "source": [
    "# Check the shape of the flattened data\n",
    "print(f\"Train images shape after flattening: {train_images_flattened.shape}\")\n",
    "print(f\"Test images shape after flattening: {test_images_flattened.shape}\")"
   ]
  },
  {
   "cell_type": "code",
   "execution_count": 9,
   "metadata": {},
   "outputs": [],
   "source": [
    "# Get the labels (digits)\n",
    "train_labels = np.array(train_data['label'])\n",
    "test_labels = np.array(test_data['label'])"
   ]
  },
  {
   "cell_type": "markdown",
   "metadata": {},
   "source": [
    "Randomly select an initially labeled dataset of 200 samples from training samples."
   ]
  },
  {
   "cell_type": "code",
   "execution_count": 10,
   "metadata": {},
   "outputs": [],
   "source": [
    "# Randomly select 200 samples from the training set\n",
    "num_samples = 200\n",
    "np.random.seed(43)\n",
    "random_indices = np.random.choice(train_images_flattened.shape[0], num_samples, replace=False)\n",
    "\n",
    "# Create the initially labeled dataset\n",
    "initial_images = train_images_flattened[random_indices]\n",
    "initial_labels = train_labels[random_indices]"
   ]
  },
  {
   "cell_type": "code",
   "execution_count": 11,
   "metadata": {},
   "outputs": [
    {
     "name": "stdout",
     "output_type": "stream",
     "text": [
      "Initial labeled dataset shape (images): (200, 784)\n",
      "Initial labeled dataset shape (labels): (200,)\n"
     ]
    }
   ],
   "source": [
    "# Check the shape of the selected dataset\n",
    "print(f\"Initial labeled dataset shape (images): {initial_images.shape}\")\n",
    "print(f\"Initial labeled dataset shape (labels): {initial_labels.shape}\")"
   ]
  },
  {
   "cell_type": "markdown",
   "metadata": {},
   "source": [
    "Generate an \"Unlabeled Pool,\" the Initial Dataset excluding 200 samples."
   ]
  },
  {
   "cell_type": "code",
   "execution_count": 12,
   "metadata": {},
   "outputs": [],
   "source": [
    "# Create the Unlabeled Pool by excluding the 200 selected samples\n",
    "unlabeled_images = np.delete(train_images_flattened, random_indices, axis=0)\n",
    "unlabeled_labels = np.delete(train_labels, random_indices, axis=0)"
   ]
  },
  {
   "cell_type": "code",
   "execution_count": 13,
   "metadata": {},
   "outputs": [
    {
     "name": "stdout",
     "output_type": "stream",
     "text": [
      "Unlabeled Pool shape (images): (59800, 784)\n",
      "Unlabeled Pool shape (labels): (59800,)\n"
     ]
    }
   ],
   "source": [
    "# Check the shape of the Unlabeled Pool\n",
    "print(f\"Unlabeled Pool shape (images): {unlabeled_images.shape}\")\n",
    "print(f\"Unlabeled Pool shape (labels): {unlabeled_labels.shape}\")"
   ]
  },
  {
   "cell_type": "markdown",
   "metadata": {},
   "source": [
    "### Task 2: Implement Random Sampling for Active Learning"
   ]
  },
  {
   "cell_type": "markdown",
   "metadata": {},
   "source": [
    "1. Train a Random Forest Classifier (you can use “from sklearn.ensemble import RandomForestClassifier”)  on the initial dataset of 200 samples."
   ]
  },
  {
   "cell_type": "code",
   "execution_count": 14,
   "metadata": {},
   "outputs": [],
   "source": [
    "from sklearn.ensemble import RandomForestClassifier\n",
    "from sklearn.metrics import accuracy_score"
   ]
  },
  {
   "cell_type": "code",
   "execution_count": 15,
   "metadata": {},
   "outputs": [],
   "source": [
    "# Initialize the Random Forest Classifier\n",
    "rf_classifier = RandomForestClassifier(n_estimators=100, random_state=42)"
   ]
  },
  {
   "cell_type": "code",
   "execution_count": 16,
   "metadata": {},
   "outputs": [
    {
     "data": {
      "text/html": [
       "<style>#sk-container-id-1 {\n",
       "  /* Definition of color scheme common for light and dark mode */\n",
       "  --sklearn-color-text: #000;\n",
       "  --sklearn-color-text-muted: #666;\n",
       "  --sklearn-color-line: gray;\n",
       "  /* Definition of color scheme for unfitted estimators */\n",
       "  --sklearn-color-unfitted-level-0: #fff5e6;\n",
       "  --sklearn-color-unfitted-level-1: #f6e4d2;\n",
       "  --sklearn-color-unfitted-level-2: #ffe0b3;\n",
       "  --sklearn-color-unfitted-level-3: chocolate;\n",
       "  /* Definition of color scheme for fitted estimators */\n",
       "  --sklearn-color-fitted-level-0: #f0f8ff;\n",
       "  --sklearn-color-fitted-level-1: #d4ebff;\n",
       "  --sklearn-color-fitted-level-2: #b3dbfd;\n",
       "  --sklearn-color-fitted-level-3: cornflowerblue;\n",
       "\n",
       "  /* Specific color for light theme */\n",
       "  --sklearn-color-text-on-default-background: var(--sg-text-color, var(--theme-code-foreground, var(--jp-content-font-color1, black)));\n",
       "  --sklearn-color-background: var(--sg-background-color, var(--theme-background, var(--jp-layout-color0, white)));\n",
       "  --sklearn-color-border-box: var(--sg-text-color, var(--theme-code-foreground, var(--jp-content-font-color1, black)));\n",
       "  --sklearn-color-icon: #696969;\n",
       "\n",
       "  @media (prefers-color-scheme: dark) {\n",
       "    /* Redefinition of color scheme for dark theme */\n",
       "    --sklearn-color-text-on-default-background: var(--sg-text-color, var(--theme-code-foreground, var(--jp-content-font-color1, white)));\n",
       "    --sklearn-color-background: var(--sg-background-color, var(--theme-background, var(--jp-layout-color0, #111)));\n",
       "    --sklearn-color-border-box: var(--sg-text-color, var(--theme-code-foreground, var(--jp-content-font-color1, white)));\n",
       "    --sklearn-color-icon: #878787;\n",
       "  }\n",
       "}\n",
       "\n",
       "#sk-container-id-1 {\n",
       "  color: var(--sklearn-color-text);\n",
       "}\n",
       "\n",
       "#sk-container-id-1 pre {\n",
       "  padding: 0;\n",
       "}\n",
       "\n",
       "#sk-container-id-1 input.sk-hidden--visually {\n",
       "  border: 0;\n",
       "  clip: rect(1px 1px 1px 1px);\n",
       "  clip: rect(1px, 1px, 1px, 1px);\n",
       "  height: 1px;\n",
       "  margin: -1px;\n",
       "  overflow: hidden;\n",
       "  padding: 0;\n",
       "  position: absolute;\n",
       "  width: 1px;\n",
       "}\n",
       "\n",
       "#sk-container-id-1 div.sk-dashed-wrapped {\n",
       "  border: 1px dashed var(--sklearn-color-line);\n",
       "  margin: 0 0.4em 0.5em 0.4em;\n",
       "  box-sizing: border-box;\n",
       "  padding-bottom: 0.4em;\n",
       "  background-color: var(--sklearn-color-background);\n",
       "}\n",
       "\n",
       "#sk-container-id-1 div.sk-container {\n",
       "  /* jupyter's `normalize.less` sets `[hidden] { display: none; }`\n",
       "     but bootstrap.min.css set `[hidden] { display: none !important; }`\n",
       "     so we also need the `!important` here to be able to override the\n",
       "     default hidden behavior on the sphinx rendered scikit-learn.org.\n",
       "     See: https://github.com/scikit-learn/scikit-learn/issues/21755 */\n",
       "  display: inline-block !important;\n",
       "  position: relative;\n",
       "}\n",
       "\n",
       "#sk-container-id-1 div.sk-text-repr-fallback {\n",
       "  display: none;\n",
       "}\n",
       "\n",
       "div.sk-parallel-item,\n",
       "div.sk-serial,\n",
       "div.sk-item {\n",
       "  /* draw centered vertical line to link estimators */\n",
       "  background-image: linear-gradient(var(--sklearn-color-text-on-default-background), var(--sklearn-color-text-on-default-background));\n",
       "  background-size: 2px 100%;\n",
       "  background-repeat: no-repeat;\n",
       "  background-position: center center;\n",
       "}\n",
       "\n",
       "/* Parallel-specific style estimator block */\n",
       "\n",
       "#sk-container-id-1 div.sk-parallel-item::after {\n",
       "  content: \"\";\n",
       "  width: 100%;\n",
       "  border-bottom: 2px solid var(--sklearn-color-text-on-default-background);\n",
       "  flex-grow: 1;\n",
       "}\n",
       "\n",
       "#sk-container-id-1 div.sk-parallel {\n",
       "  display: flex;\n",
       "  align-items: stretch;\n",
       "  justify-content: center;\n",
       "  background-color: var(--sklearn-color-background);\n",
       "  position: relative;\n",
       "}\n",
       "\n",
       "#sk-container-id-1 div.sk-parallel-item {\n",
       "  display: flex;\n",
       "  flex-direction: column;\n",
       "}\n",
       "\n",
       "#sk-container-id-1 div.sk-parallel-item:first-child::after {\n",
       "  align-self: flex-end;\n",
       "  width: 50%;\n",
       "}\n",
       "\n",
       "#sk-container-id-1 div.sk-parallel-item:last-child::after {\n",
       "  align-self: flex-start;\n",
       "  width: 50%;\n",
       "}\n",
       "\n",
       "#sk-container-id-1 div.sk-parallel-item:only-child::after {\n",
       "  width: 0;\n",
       "}\n",
       "\n",
       "/* Serial-specific style estimator block */\n",
       "\n",
       "#sk-container-id-1 div.sk-serial {\n",
       "  display: flex;\n",
       "  flex-direction: column;\n",
       "  align-items: center;\n",
       "  background-color: var(--sklearn-color-background);\n",
       "  padding-right: 1em;\n",
       "  padding-left: 1em;\n",
       "}\n",
       "\n",
       "\n",
       "/* Toggleable style: style used for estimator/Pipeline/ColumnTransformer box that is\n",
       "clickable and can be expanded/collapsed.\n",
       "- Pipeline and ColumnTransformer use this feature and define the default style\n",
       "- Estimators will overwrite some part of the style using the `sk-estimator` class\n",
       "*/\n",
       "\n",
       "/* Pipeline and ColumnTransformer style (default) */\n",
       "\n",
       "#sk-container-id-1 div.sk-toggleable {\n",
       "  /* Default theme specific background. It is overwritten whether we have a\n",
       "  specific estimator or a Pipeline/ColumnTransformer */\n",
       "  background-color: var(--sklearn-color-background);\n",
       "}\n",
       "\n",
       "/* Toggleable label */\n",
       "#sk-container-id-1 label.sk-toggleable__label {\n",
       "  cursor: pointer;\n",
       "  display: flex;\n",
       "  width: 100%;\n",
       "  margin-bottom: 0;\n",
       "  padding: 0.5em;\n",
       "  box-sizing: border-box;\n",
       "  text-align: center;\n",
       "  align-items: start;\n",
       "  justify-content: space-between;\n",
       "  gap: 0.5em;\n",
       "}\n",
       "\n",
       "#sk-container-id-1 label.sk-toggleable__label .caption {\n",
       "  font-size: 0.6rem;\n",
       "  font-weight: lighter;\n",
       "  color: var(--sklearn-color-text-muted);\n",
       "}\n",
       "\n",
       "#sk-container-id-1 label.sk-toggleable__label-arrow:before {\n",
       "  /* Arrow on the left of the label */\n",
       "  content: \"▸\";\n",
       "  float: left;\n",
       "  margin-right: 0.25em;\n",
       "  color: var(--sklearn-color-icon);\n",
       "}\n",
       "\n",
       "#sk-container-id-1 label.sk-toggleable__label-arrow:hover:before {\n",
       "  color: var(--sklearn-color-text);\n",
       "}\n",
       "\n",
       "/* Toggleable content - dropdown */\n",
       "\n",
       "#sk-container-id-1 div.sk-toggleable__content {\n",
       "  max-height: 0;\n",
       "  max-width: 0;\n",
       "  overflow: hidden;\n",
       "  text-align: left;\n",
       "  /* unfitted */\n",
       "  background-color: var(--sklearn-color-unfitted-level-0);\n",
       "}\n",
       "\n",
       "#sk-container-id-1 div.sk-toggleable__content.fitted {\n",
       "  /* fitted */\n",
       "  background-color: var(--sklearn-color-fitted-level-0);\n",
       "}\n",
       "\n",
       "#sk-container-id-1 div.sk-toggleable__content pre {\n",
       "  margin: 0.2em;\n",
       "  border-radius: 0.25em;\n",
       "  color: var(--sklearn-color-text);\n",
       "  /* unfitted */\n",
       "  background-color: var(--sklearn-color-unfitted-level-0);\n",
       "}\n",
       "\n",
       "#sk-container-id-1 div.sk-toggleable__content.fitted pre {\n",
       "  /* unfitted */\n",
       "  background-color: var(--sklearn-color-fitted-level-0);\n",
       "}\n",
       "\n",
       "#sk-container-id-1 input.sk-toggleable__control:checked~div.sk-toggleable__content {\n",
       "  /* Expand drop-down */\n",
       "  max-height: 200px;\n",
       "  max-width: 100%;\n",
       "  overflow: auto;\n",
       "}\n",
       "\n",
       "#sk-container-id-1 input.sk-toggleable__control:checked~label.sk-toggleable__label-arrow:before {\n",
       "  content: \"▾\";\n",
       "}\n",
       "\n",
       "/* Pipeline/ColumnTransformer-specific style */\n",
       "\n",
       "#sk-container-id-1 div.sk-label input.sk-toggleable__control:checked~label.sk-toggleable__label {\n",
       "  color: var(--sklearn-color-text);\n",
       "  background-color: var(--sklearn-color-unfitted-level-2);\n",
       "}\n",
       "\n",
       "#sk-container-id-1 div.sk-label.fitted input.sk-toggleable__control:checked~label.sk-toggleable__label {\n",
       "  background-color: var(--sklearn-color-fitted-level-2);\n",
       "}\n",
       "\n",
       "/* Estimator-specific style */\n",
       "\n",
       "/* Colorize estimator box */\n",
       "#sk-container-id-1 div.sk-estimator input.sk-toggleable__control:checked~label.sk-toggleable__label {\n",
       "  /* unfitted */\n",
       "  background-color: var(--sklearn-color-unfitted-level-2);\n",
       "}\n",
       "\n",
       "#sk-container-id-1 div.sk-estimator.fitted input.sk-toggleable__control:checked~label.sk-toggleable__label {\n",
       "  /* fitted */\n",
       "  background-color: var(--sklearn-color-fitted-level-2);\n",
       "}\n",
       "\n",
       "#sk-container-id-1 div.sk-label label.sk-toggleable__label,\n",
       "#sk-container-id-1 div.sk-label label {\n",
       "  /* The background is the default theme color */\n",
       "  color: var(--sklearn-color-text-on-default-background);\n",
       "}\n",
       "\n",
       "/* On hover, darken the color of the background */\n",
       "#sk-container-id-1 div.sk-label:hover label.sk-toggleable__label {\n",
       "  color: var(--sklearn-color-text);\n",
       "  background-color: var(--sklearn-color-unfitted-level-2);\n",
       "}\n",
       "\n",
       "/* Label box, darken color on hover, fitted */\n",
       "#sk-container-id-1 div.sk-label.fitted:hover label.sk-toggleable__label.fitted {\n",
       "  color: var(--sklearn-color-text);\n",
       "  background-color: var(--sklearn-color-fitted-level-2);\n",
       "}\n",
       "\n",
       "/* Estimator label */\n",
       "\n",
       "#sk-container-id-1 div.sk-label label {\n",
       "  font-family: monospace;\n",
       "  font-weight: bold;\n",
       "  display: inline-block;\n",
       "  line-height: 1.2em;\n",
       "}\n",
       "\n",
       "#sk-container-id-1 div.sk-label-container {\n",
       "  text-align: center;\n",
       "}\n",
       "\n",
       "/* Estimator-specific */\n",
       "#sk-container-id-1 div.sk-estimator {\n",
       "  font-family: monospace;\n",
       "  border: 1px dotted var(--sklearn-color-border-box);\n",
       "  border-radius: 0.25em;\n",
       "  box-sizing: border-box;\n",
       "  margin-bottom: 0.5em;\n",
       "  /* unfitted */\n",
       "  background-color: var(--sklearn-color-unfitted-level-0);\n",
       "}\n",
       "\n",
       "#sk-container-id-1 div.sk-estimator.fitted {\n",
       "  /* fitted */\n",
       "  background-color: var(--sklearn-color-fitted-level-0);\n",
       "}\n",
       "\n",
       "/* on hover */\n",
       "#sk-container-id-1 div.sk-estimator:hover {\n",
       "  /* unfitted */\n",
       "  background-color: var(--sklearn-color-unfitted-level-2);\n",
       "}\n",
       "\n",
       "#sk-container-id-1 div.sk-estimator.fitted:hover {\n",
       "  /* fitted */\n",
       "  background-color: var(--sklearn-color-fitted-level-2);\n",
       "}\n",
       "\n",
       "/* Specification for estimator info (e.g. \"i\" and \"?\") */\n",
       "\n",
       "/* Common style for \"i\" and \"?\" */\n",
       "\n",
       ".sk-estimator-doc-link,\n",
       "a:link.sk-estimator-doc-link,\n",
       "a:visited.sk-estimator-doc-link {\n",
       "  float: right;\n",
       "  font-size: smaller;\n",
       "  line-height: 1em;\n",
       "  font-family: monospace;\n",
       "  background-color: var(--sklearn-color-background);\n",
       "  border-radius: 1em;\n",
       "  height: 1em;\n",
       "  width: 1em;\n",
       "  text-decoration: none !important;\n",
       "  margin-left: 0.5em;\n",
       "  text-align: center;\n",
       "  /* unfitted */\n",
       "  border: var(--sklearn-color-unfitted-level-1) 1pt solid;\n",
       "  color: var(--sklearn-color-unfitted-level-1);\n",
       "}\n",
       "\n",
       ".sk-estimator-doc-link.fitted,\n",
       "a:link.sk-estimator-doc-link.fitted,\n",
       "a:visited.sk-estimator-doc-link.fitted {\n",
       "  /* fitted */\n",
       "  border: var(--sklearn-color-fitted-level-1) 1pt solid;\n",
       "  color: var(--sklearn-color-fitted-level-1);\n",
       "}\n",
       "\n",
       "/* On hover */\n",
       "div.sk-estimator:hover .sk-estimator-doc-link:hover,\n",
       ".sk-estimator-doc-link:hover,\n",
       "div.sk-label-container:hover .sk-estimator-doc-link:hover,\n",
       ".sk-estimator-doc-link:hover {\n",
       "  /* unfitted */\n",
       "  background-color: var(--sklearn-color-unfitted-level-3);\n",
       "  color: var(--sklearn-color-background);\n",
       "  text-decoration: none;\n",
       "}\n",
       "\n",
       "div.sk-estimator.fitted:hover .sk-estimator-doc-link.fitted:hover,\n",
       ".sk-estimator-doc-link.fitted:hover,\n",
       "div.sk-label-container:hover .sk-estimator-doc-link.fitted:hover,\n",
       ".sk-estimator-doc-link.fitted:hover {\n",
       "  /* fitted */\n",
       "  background-color: var(--sklearn-color-fitted-level-3);\n",
       "  color: var(--sklearn-color-background);\n",
       "  text-decoration: none;\n",
       "}\n",
       "\n",
       "/* Span, style for the box shown on hovering the info icon */\n",
       ".sk-estimator-doc-link span {\n",
       "  display: none;\n",
       "  z-index: 9999;\n",
       "  position: relative;\n",
       "  font-weight: normal;\n",
       "  right: .2ex;\n",
       "  padding: .5ex;\n",
       "  margin: .5ex;\n",
       "  width: min-content;\n",
       "  min-width: 20ex;\n",
       "  max-width: 50ex;\n",
       "  color: var(--sklearn-color-text);\n",
       "  box-shadow: 2pt 2pt 4pt #999;\n",
       "  /* unfitted */\n",
       "  background: var(--sklearn-color-unfitted-level-0);\n",
       "  border: .5pt solid var(--sklearn-color-unfitted-level-3);\n",
       "}\n",
       "\n",
       ".sk-estimator-doc-link.fitted span {\n",
       "  /* fitted */\n",
       "  background: var(--sklearn-color-fitted-level-0);\n",
       "  border: var(--sklearn-color-fitted-level-3);\n",
       "}\n",
       "\n",
       ".sk-estimator-doc-link:hover span {\n",
       "  display: block;\n",
       "}\n",
       "\n",
       "/* \"?\"-specific style due to the `<a>` HTML tag */\n",
       "\n",
       "#sk-container-id-1 a.estimator_doc_link {\n",
       "  float: right;\n",
       "  font-size: 1rem;\n",
       "  line-height: 1em;\n",
       "  font-family: monospace;\n",
       "  background-color: var(--sklearn-color-background);\n",
       "  border-radius: 1rem;\n",
       "  height: 1rem;\n",
       "  width: 1rem;\n",
       "  text-decoration: none;\n",
       "  /* unfitted */\n",
       "  color: var(--sklearn-color-unfitted-level-1);\n",
       "  border: var(--sklearn-color-unfitted-level-1) 1pt solid;\n",
       "}\n",
       "\n",
       "#sk-container-id-1 a.estimator_doc_link.fitted {\n",
       "  /* fitted */\n",
       "  border: var(--sklearn-color-fitted-level-1) 1pt solid;\n",
       "  color: var(--sklearn-color-fitted-level-1);\n",
       "}\n",
       "\n",
       "/* On hover */\n",
       "#sk-container-id-1 a.estimator_doc_link:hover {\n",
       "  /* unfitted */\n",
       "  background-color: var(--sklearn-color-unfitted-level-3);\n",
       "  color: var(--sklearn-color-background);\n",
       "  text-decoration: none;\n",
       "}\n",
       "\n",
       "#sk-container-id-1 a.estimator_doc_link.fitted:hover {\n",
       "  /* fitted */\n",
       "  background-color: var(--sklearn-color-fitted-level-3);\n",
       "}\n",
       "</style><div id=\"sk-container-id-1\" class=\"sk-top-container\"><div class=\"sk-text-repr-fallback\"><pre>RandomForestClassifier(random_state=42)</pre><b>In a Jupyter environment, please rerun this cell to show the HTML representation or trust the notebook. <br />On GitHub, the HTML representation is unable to render, please try loading this page with nbviewer.org.</b></div><div class=\"sk-container\" hidden><div class=\"sk-item\"><div class=\"sk-estimator fitted sk-toggleable\"><input class=\"sk-toggleable__control sk-hidden--visually\" id=\"sk-estimator-id-1\" type=\"checkbox\" checked><label for=\"sk-estimator-id-1\" class=\"sk-toggleable__label fitted sk-toggleable__label-arrow\"><div><div>RandomForestClassifier</div></div><div><a class=\"sk-estimator-doc-link fitted\" rel=\"noreferrer\" target=\"_blank\" href=\"https://scikit-learn.org/1.6/modules/generated/sklearn.ensemble.RandomForestClassifier.html\">?<span>Documentation for RandomForestClassifier</span></a><span class=\"sk-estimator-doc-link fitted\">i<span>Fitted</span></span></div></label><div class=\"sk-toggleable__content fitted\"><pre>RandomForestClassifier(random_state=42)</pre></div> </div></div></div></div>"
      ],
      "text/plain": [
       "RandomForestClassifier(random_state=42)"
      ]
     },
     "execution_count": 16,
     "metadata": {},
     "output_type": "execute_result"
    }
   ],
   "source": [
    "# Train the model on the initial labeled dataset (200 samples)\n",
    "rf_classifier.fit(initial_images, initial_labels)"
   ]
  },
  {
   "cell_type": "code",
   "execution_count": 17,
   "metadata": {},
   "outputs": [
    {
     "name": "stdout",
     "output_type": "stream",
     "text": [
      "Accuracy on Test Pool: 78.53%\n"
     ]
    }
   ],
   "source": [
    "# Evaluate the model on the Test Pool (10,000 samples)\n",
    "# We will use the accuracy score to see how well the model performs\n",
    "predicted_labels = rf_classifier.predict(test_images_flattened)\n",
    "\n",
    "# Optionally, calculate accuracy (here we're using the true labels to compute accuracy)\n",
    "accuracy = accuracy_score(test_labels, predicted_labels)\n",
    "\n",
    "print(f\"Accuracy on Test Pool: {accuracy * 100:.2f}%\")"
   ]
  },
  {
   "cell_type": "markdown",
   "metadata": {},
   "source": [
    "2. Implement an active learning loop for 20 iterations:\n",
    "* Randomly select a sample from the unlabeled pool.\n",
    "* Get the selected sample and its true label.\n",
    "* Add the sample and label to the labeled dataset.\n",
    "* Remove the selected sample and label from the pool.\n",
    "* Retrain the model on the updated dataset.\n",
    "* Check the model's accuracy on the test set.\n",
    "* Print accuracy after every iteration.\n"
   ]
  },
  {
   "cell_type": "code",
   "execution_count": 18,
   "metadata": {},
   "outputs": [
    {
     "name": "stdout",
     "output_type": "stream",
     "text": [
      "Iteration 1/20 - Test Accuracy: 78.57%\n",
      "Iteration 2/20 - Test Accuracy: 77.72%\n",
      "Iteration 3/20 - Test Accuracy: 78.08%\n",
      "Iteration 4/20 - Test Accuracy: 79.02%\n",
      "Iteration 5/20 - Test Accuracy: 78.53%\n",
      "Iteration 6/20 - Test Accuracy: 78.33%\n",
      "Iteration 7/20 - Test Accuracy: 78.33%\n",
      "Iteration 8/20 - Test Accuracy: 79.16%\n",
      "Iteration 9/20 - Test Accuracy: 79.32%\n",
      "Iteration 10/20 - Test Accuracy: 79.56%\n",
      "Iteration 11/20 - Test Accuracy: 79.71%\n",
      "Iteration 12/20 - Test Accuracy: 79.23%\n",
      "Iteration 13/20 - Test Accuracy: 79.49%\n",
      "Iteration 14/20 - Test Accuracy: 79.29%\n",
      "Iteration 15/20 - Test Accuracy: 79.43%\n",
      "Iteration 16/20 - Test Accuracy: 79.48%\n",
      "Iteration 17/20 - Test Accuracy: 79.43%\n",
      "Iteration 18/20 - Test Accuracy: 80.31%\n",
      "Iteration 19/20 - Test Accuracy: 79.57%\n",
      "Iteration 20/20 - Test Accuracy: 80.12%\n"
     ]
    }
   ],
   "source": [
    "random_sampling_accuracies = []\n",
    "\n",
    "# Active learning loop for 20 iterations\n",
    "num_iterations = 20\n",
    "for iteration in range(num_iterations):\n",
    "    # Step 1: Randomly select a sample from the unlabeled pool\n",
    "    random_index = np.random.choice(unlabeled_images.shape[0], 1, replace=False)\n",
    "    selected_image = unlabeled_images[random_index]\n",
    "    selected_label = unlabeled_labels[random_index]\n",
    "\n",
    "    # Step 2: Add the selected sample and its label to the labeled dataset\n",
    "    initial_images = np.vstack([initial_images, selected_image])\n",
    "    initial_labels = np.append(initial_labels, selected_label)\n",
    "\n",
    "    # Step 3: Remove the selected sample and label from the unlabeled pool\n",
    "    unlabeled_images = np.delete(unlabeled_images, random_index, axis=0)\n",
    "    unlabeled_labels = np.delete(unlabeled_labels, random_index, axis=0)\n",
    "\n",
    "    # Step 4: Retrain the model on the updated dataset\n",
    "    rf_classifier.fit(initial_images, initial_labels)\n",
    "\n",
    "    # Step 5: Evaluate the model on the test set\n",
    "    predicted_labels_test = rf_classifier.predict(test_images_flattened)\n",
    "    accuracy_test = accuracy_score(test_labels, predicted_labels_test)\n",
    "    random_sampling_accuracies.append(accuracy_test)\n",
    "\n",
    "    # Step 6: Print accuracy after every iteration\n",
    "    print(f\"Iteration {iteration+1}/{num_iterations} - Test Accuracy: {accuracy_test * 100:.2f}%\")\n"
   ]
  },
  {
   "cell_type": "code",
   "execution_count": 19,
   "metadata": {},
   "outputs": [
    {
     "data": {
      "text/plain": [
       "(59780, 784)"
      ]
     },
     "execution_count": 19,
     "metadata": {},
     "output_type": "execute_result"
    }
   ],
   "source": [
    "unlabeled_images.shape"
   ]
  },
  {
   "cell_type": "markdown",
   "metadata": {},
   "source": [
    "### Task 3: Implement Uncertainty Sampling for Active Learning."
   ]
  },
  {
   "cell_type": "markdown",
   "metadata": {},
   "source": [
    "1. Train a Random Forest Classifier (you can use “from sklearn.ensemble import RandomForestClassifier”)  on the initial dataset of 200 samples."
   ]
  },
  {
   "cell_type": "code",
   "execution_count": 20,
   "metadata": {},
   "outputs": [
    {
     "name": "stdout",
     "output_type": "stream",
     "text": [
      "Initial labeled dataset shape (images): (200, 784)\n",
      "Initial labeled dataset shape (labels): (200,)\n"
     ]
    }
   ],
   "source": [
    "# Randomly select 200 samples from the training set\n",
    "num_samples = 200\n",
    "np.random.seed(43)\n",
    "random_indices = np.random.choice(train_images_flattened.shape[0], num_samples, replace=False)\n",
    "\n",
    "# Create the initially labeled dataset\n",
    "initial_images = train_images_flattened[random_indices]\n",
    "initial_labels = train_labels[random_indices]\n",
    "\n",
    "# Check the shape of the selected dataset\n",
    "print(f\"Initial labeled dataset shape (images): {initial_images.shape}\")\n",
    "print(f\"Initial labeled dataset shape (labels): {initial_labels.shape}\")"
   ]
  },
  {
   "cell_type": "code",
   "execution_count": 21,
   "metadata": {},
   "outputs": [
    {
     "name": "stdout",
     "output_type": "stream",
     "text": [
      "Unlabeled Pool shape (images): (59800, 784)\n",
      "Unlabeled Pool shape (labels): (59800,)\n"
     ]
    }
   ],
   "source": [
    "# Create the Unlabeled Pool by excluding the 200 selected samples\n",
    "unlabeled_images = np.delete(train_images_flattened, random_indices, axis=0)\n",
    "unlabeled_labels = np.delete(train_labels, random_indices, axis=0)\n",
    "\n",
    "# Check the shape of the Unlabeled Pool\n",
    "print(f\"Unlabeled Pool shape (images): {unlabeled_images.shape}\")\n",
    "print(f\"Unlabeled Pool shape (labels): {unlabeled_labels.shape}\")"
   ]
  },
  {
   "cell_type": "code",
   "execution_count": 22,
   "metadata": {},
   "outputs": [
    {
     "name": "stdout",
     "output_type": "stream",
     "text": [
      "Accuracy on Test Set after training on 200 samples: 78.53%\n"
     ]
    }
   ],
   "source": [
    "# Initialize the Random Forest Classifier\n",
    "rf_classifier = RandomForestClassifier(n_estimators=100, random_state=42)\n",
    "\n",
    "# Train the model on the initial labeled dataset (200 samples)\n",
    "rf_classifier.fit(initial_images, initial_labels)\n",
    "\n",
    "# Predict the labels on the test dataset\n",
    "predicted_labels_test = rf_classifier.predict(test_images_flattened)\n",
    "\n",
    "# Calculate the accuracy on the test dataset\n",
    "accuracy_test = accuracy_score(test_labels, predicted_labels_test)\n",
    "\n",
    "# Print the accuracy\n",
    "print(f\"Accuracy on Test Set after training on 200 samples: {accuracy_test * 100:.2f}%\")"
   ]
  },
  {
   "cell_type": "markdown",
   "metadata": {},
   "source": [
    "2. Implement an active learning loop for 20 iterations:\n",
    "* Compute uncertainty (Label Entropy) for each sample in the unlabeled pool using entropy.\n",
    "* Select the sample with the highest uncertainty and query its true label.\n",
    "* Add the queried sample to the labelled dataset and remove it from the unlabelled pool.\n",
    "* Retrain the model and check the model's accuracy on the test set.\n",
    "* Print accuracy after every iteration.\n"
   ]
  },
  {
   "cell_type": "code",
   "execution_count": 23,
   "metadata": {},
   "outputs": [],
   "source": [
    "# Function to compute the entropy for each sample\n",
    "def compute_label_entropy(model, unlabeled_images):\n",
    "    # Get the predicted probabilities for each class (model.predict_proba returns a probability distribution for each class)\n",
    "    probas = model.predict_proba(unlabeled_images)\n",
    "    \n",
    "    # For each sample, calculate entropy\n",
    "    entropies = []\n",
    "    for prob in probas:\n",
    "        entropy = -np.sum(prob * np.log2(prob + 1e-10))  # Adding a small value to avoid log(0)\n",
    "        entropies.append(entropy)\n",
    "    \n",
    "    return np.array(entropies)"
   ]
  },
  {
   "cell_type": "code",
   "execution_count": 24,
   "metadata": {},
   "outputs": [
    {
     "name": "stdout",
     "output_type": "stream",
     "text": [
      "Test Accuracy after iteration 1: 78.33%\n",
      "Test Accuracy after iteration 2: 78.62%\n",
      "Test Accuracy after iteration 3: 78.40%\n",
      "Test Accuracy after iteration 4: 78.47%\n",
      "Test Accuracy after iteration 5: 78.41%\n",
      "Test Accuracy after iteration 6: 78.91%\n",
      "Test Accuracy after iteration 7: 78.48%\n",
      "Test Accuracy after iteration 8: 79.04%\n",
      "Test Accuracy after iteration 9: 78.85%\n",
      "Test Accuracy after iteration 10: 79.08%\n",
      "Test Accuracy after iteration 11: 78.58%\n",
      "Test Accuracy after iteration 12: 79.07%\n",
      "Test Accuracy after iteration 13: 78.83%\n",
      "Test Accuracy after iteration 14: 79.57%\n",
      "Test Accuracy after iteration 15: 79.80%\n",
      "Test Accuracy after iteration 16: 80.37%\n",
      "Test Accuracy after iteration 17: 79.36%\n",
      "Test Accuracy after iteration 18: 79.84%\n",
      "Test Accuracy after iteration 19: 79.72%\n",
      "Test Accuracy after iteration 20: 79.48%\n"
     ]
    }
   ],
   "source": [
    "uncertainty_sampling_accuracies = []\n",
    "\n",
    "# Active learning loop for 20 iterations\n",
    "num_iterations = 20\n",
    "for iteration in range(num_iterations):\n",
    "    \n",
    "    # Step 1: Compute Label Entropy for each sample in the unlabeled pool\n",
    "    entropies = compute_label_entropy(rf_classifier, unlabeled_images)\n",
    "    \n",
    "    # Step 2: Select the sample with the highest entropy (highest uncertainty)\n",
    "    uncertain_sample_index = np.argmax(entropies)\n",
    "    selected_image = unlabeled_images[uncertain_sample_index]\n",
    "    selected_label = unlabeled_labels[uncertain_sample_index]\n",
    "    \n",
    "    # Step 3: Add the selected sample and label to the labeled dataset\n",
    "    initial_images = np.vstack([initial_images, selected_image])\n",
    "    initial_labels = np.append(initial_labels, selected_label)\n",
    "    \n",
    "    # Step 4: Remove the selected sample and label from the unlabeled pool\n",
    "    unlabeled_images = np.delete(unlabeled_images, uncertain_sample_index, axis=0)\n",
    "    unlabeled_labels = np.delete(unlabeled_labels, uncertain_sample_index, axis=0)\n",
    "    \n",
    "    # Step 5: Retrain the model on the updated labeled dataset\n",
    "    rf_classifier.fit(initial_images, initial_labels)\n",
    "    \n",
    "    # Step 6: Evaluate the model on the test set\n",
    "    predicted_labels_test = rf_classifier.predict(test_images_flattened)\n",
    "    accuracy_test = accuracy_score(test_labels, predicted_labels_test)\n",
    "    uncertainty_sampling_accuracies.append(accuracy_test)\n",
    "    \n",
    "    # Step 7: Print the accuracy after every iteration\n",
    "    print(f\"Test Accuracy after iteration {iteration + 1}: {accuracy_test * 100:.2f}%\")\n"
   ]
  },
  {
   "cell_type": "markdown",
   "metadata": {},
   "source": [
    "### Task 4: Implement Query-by-Committee for Active Learning"
   ]
  },
  {
   "cell_type": "code",
   "execution_count": 25,
   "metadata": {},
   "outputs": [
    {
     "name": "stdout",
     "output_type": "stream",
     "text": [
      "Initial labeled dataset shape (images): (200, 784)\n",
      "Initial labeled dataset shape (labels): (200,)\n"
     ]
    }
   ],
   "source": [
    "# Randomly select 200 samples from the training set\n",
    "num_samples = 200\n",
    "np.random.seed(43)\n",
    "random_indices = np.random.choice(train_images_flattened.shape[0], num_samples, replace=False)\n",
    "\n",
    "# Create the initially labeled dataset\n",
    "initial_images = train_images_flattened[random_indices]\n",
    "initial_labels = train_labels[random_indices]\n",
    "\n",
    "# Check the shape of the selected dataset\n",
    "print(f\"Initial labeled dataset shape (images): {initial_images.shape}\")\n",
    "print(f\"Initial labeled dataset shape (labels): {initial_labels.shape}\")"
   ]
  },
  {
   "cell_type": "code",
   "execution_count": 26,
   "metadata": {},
   "outputs": [
    {
     "name": "stdout",
     "output_type": "stream",
     "text": [
      "Unlabeled Pool shape (images): (59800, 784)\n",
      "Unlabeled Pool shape (labels): (59800,)\n"
     ]
    }
   ],
   "source": [
    "# Create the Unlabeled Pool by excluding the 200 selected samples\n",
    "unlabeled_images = np.delete(train_images_flattened, random_indices, axis=0)\n",
    "unlabeled_labels = np.delete(train_labels, random_indices, axis=0)\n",
    "\n",
    "# Check the shape of the Unlabeled Pool\n",
    "print(f\"Unlabeled Pool shape (images): {unlabeled_images.shape}\")\n",
    "print(f\"Unlabeled Pool shape (labels): {unlabeled_labels.shape}\")"
   ]
  },
  {
   "cell_type": "markdown",
   "metadata": {},
   "source": [
    "1. Initialize a committee of 5 Random Forest models, each trained on the initial dataset.\n"
   ]
  },
  {
   "cell_type": "code",
   "execution_count": 27,
   "metadata": {},
   "outputs": [
    {
     "name": "stdout",
     "output_type": "stream",
     "text": [
      "Committee of 5 Random Forest models initialized and trained:\n",
      "- RandomForestClassifier()\n",
      "- RandomForestClassifier()\n",
      "- RandomForestClassifier()\n",
      "- RandomForestClassifier()\n",
      "- RandomForestClassifier()\n"
     ]
    }
   ],
   "source": [
    "# Number of models in the committee\n",
    "num_models = 5\n",
    "\n",
    "# Initialize an empty dictionary to hold the models (the committee)\n",
    "committee = []\n",
    "\n",
    "# Initialize and train 5 Random Forest models on the initial dataset\n",
    "for i in range(1, num_models + 1):\n",
    "    rf_classifier = RandomForestClassifier(n_estimators=100)\n",
    "    rf_classifier.fit(initial_images, initial_labels)\n",
    "    committee.append(rf_classifier)\n",
    "\n",
    "# Print out the number of models in the committee and their names\n",
    "print(f\"Committee of {len(committee)} Random Forest models initialized and trained:\")\n",
    "for model_name in committee:\n",
    "    print(f\"- {model_name}\")\n"
   ]
  },
  {
   "cell_type": "markdown",
   "metadata": {},
   "source": [
    "2. In the active learning loop for 20 iterations:\n",
    "* For each unlabeled sample, compute predictions from all committee members.\n",
    "* Measure disagreement by calculating Vote Entropy.\n",
    "* Select the sample with the highest disagreement and query its true label.\n",
    "* Update the labelled dataset and retrain all models.\n",
    "* Check the model's accuracy on the test set.\n",
    "* Print accuracy after every iteration\n"
   ]
  },
  {
   "cell_type": "code",
   "execution_count": 28,
   "metadata": {},
   "outputs": [],
   "source": [
    "# Function to compute Vote Entropy for a given set of predictions\n",
    "def vote_entropy(predictions):\n",
    "    probability = np.zeros((predictions.shape[0], 10))\n",
    "    \n",
    "    for i in range(predictions.shape[0]):\n",
    "        np.add.at(probability[i], predictions[i], 0.2)\n",
    "        \n",
    "    # print(predictions.shape)\n",
    "    # print(probability.shape)\n",
    "    \n",
    "    entropies = []\n",
    "    for prob in probability:\n",
    "        entropy = -np.sum(prob * np.log2(prob + 1e-10))  # Adding a small value to avoid log(0)\n",
    "        entropies.append(entropy)\n",
    "\n",
    "    return entropies"
   ]
  },
  {
   "cell_type": "code",
   "execution_count": 29,
   "metadata": {},
   "outputs": [
    {
     "name": "stdout",
     "output_type": "stream",
     "text": [
      "Test Accuracy after iteration 1: 79.18%\n",
      "Test Accuracy after iteration 2: 79.18%\n",
      "Test Accuracy after iteration 3: 79.35%\n",
      "Test Accuracy after iteration 4: 79.20%\n",
      "Test Accuracy after iteration 5: 79.36%\n",
      "Test Accuracy after iteration 6: 79.30%\n",
      "Test Accuracy after iteration 7: 79.63%\n",
      "Test Accuracy after iteration 8: 79.90%\n",
      "Test Accuracy after iteration 9: 79.74%\n",
      "Test Accuracy after iteration 10: 79.95%\n",
      "Test Accuracy after iteration 11: 79.55%\n",
      "Test Accuracy after iteration 12: 80.06%\n",
      "Test Accuracy after iteration 13: 79.78%\n",
      "Test Accuracy after iteration 14: 79.58%\n",
      "Test Accuracy after iteration 15: 80.09%\n",
      "Test Accuracy after iteration 16: 79.85%\n",
      "Test Accuracy after iteration 17: 79.83%\n",
      "Test Accuracy after iteration 18: 80.26%\n",
      "Test Accuracy after iteration 19: 80.62%\n",
      "Test Accuracy after iteration 20: 81.03%\n"
     ]
    }
   ],
   "source": [
    "# Active learning loop for 20 iterations\n",
    "num_iterations = 20\n",
    "committee_sampling_accuracies = []\n",
    "\n",
    "for iteration in range(num_iterations):\n",
    "    \n",
    "    # Step 1: Compute predictions from all committee members for each sample in the unlabeled pool\n",
    "    committee_predictions = np.array([model.predict(unlabeled_images) for model in committee]).T  # Shape: (num_samples, num_models)\n",
    "    \n",
    "    # Step 2: Calculate Vote Entropy for each sample in the unlabeled pool\n",
    "    vote_entropies = np.array(vote_entropy(committee_predictions))\n",
    "    \n",
    "    # Step 3: Select the sample with the highest Vote Entropy (highest disagreement)\n",
    "    uncertain_sample_index = np.argmax(vote_entropies)\n",
    "    selected_image = unlabeled_images[uncertain_sample_index]\n",
    "    selected_label = unlabeled_labels[uncertain_sample_index]\n",
    "    \n",
    "    # Step 4: Add the selected sample and its true label to the labeled dataset\n",
    "    initial_images = np.vstack([initial_images, selected_image])\n",
    "    initial_labels = np.append(initial_labels, selected_label)\n",
    "\n",
    "    \n",
    "    # Step 5: Remove the selected sample and label from the unlabeled pool\n",
    "    unlabeled_images = np.delete(unlabeled_images, uncertain_sample_index, axis=0)\n",
    "    unlabeled_labels = np.delete(unlabeled_labels, uncertain_sample_index, axis=0)\n",
    "    \n",
    "    # Step 6: Retrain all models in the committee on the updated labeled dataset\n",
    "    for model in committee:\n",
    "        model.fit(initial_images, initial_labels)\n",
    "    \n",
    "    # Step 7: Evaluate the model on the test set\n",
    "    test_predictions = np.array([model.predict(test_images_flattened) for model in committee]).T\n",
    "    test_accuracy = accuracy_score(test_labels, test_predictions.max(axis=1).round())  # Majority vote from the committee\n",
    "    committee_sampling_accuracies.append(test_accuracy)\n",
    "    \n",
    "    # Step 8: Print accuracy after every iteration\n",
    "    print(f\"Test Accuracy after iteration {iteration + 1}: {test_accuracy * 100:.2f}%\")"
   ]
  },
  {
   "cell_type": "markdown",
   "metadata": {},
   "source": [
    "### Task 5 : Evaluation & Report"
   ]
  },
  {
   "cell_type": "markdown",
   "metadata": {},
   "source": [
    "1) Compare the final model accuracy across all three strategies.\n",
    "\n"
   ]
  },
  {
   "cell_type": "markdown",
   "metadata": {},
   "source": [
    "* Random Sampling → Final Accuracy = 80.69%\n",
    "* Uncertainty Sampling → Final Accuracy = 81.97%\n",
    "* Query-by-Committee → Final Accuracy = 82.78%\n",
    "Highest Accuracy was given by the Query-by-Committee approach"
   ]
  },
  {
   "cell_type": "markdown",
   "metadata": {},
   "source": [
    "2) Plots the graph of accuracies for all three methods for 20 iterations."
   ]
  },
  {
   "cell_type": "code",
<<<<<<< HEAD
   "execution_count": 30,
=======
   "execution_count": 2,
>>>>>>> a3fb6b354666b512eb6565d18304c8994e8f2a55
   "metadata": {},
   "outputs": [
    {
     "name": "stderr",
     "output_type": "stream",
     "text": [
      "Matplotlib is building the font cache; this may take a moment.\n"
     ]
    }
   ],
   "source": [
    "import matplotlib.pyplot as plt"
   ]
  },
  {
   "cell_type": "code",
   "execution_count": 31,
   "metadata": {},
   "outputs": [
    {
     "data": {
      "image/png": "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",
      "text/plain": [
       "<Figure size 1000x600 with 1 Axes>"
      ]
     },
     "metadata": {},
     "output_type": "display_data"
    }
   ],
   "source": [
    "# Plotting the results\n",
    "iterations = np.arange(1, 21)\n",
    "\n",
    "plt.figure(figsize=(10, 6))\n",
    "plt.plot(iterations, random_sampling_accuracies, label=\"Random Sampling\", marker='o', linestyle='-', color='blue')\n",
    "plt.plot(iterations, uncertainty_sampling_accuracies, label=\"Uncertainty Sampling (Label Entropy)\", marker='s', linestyle='-', color='green')\n",
    "plt.plot(iterations, committee_sampling_accuracies, label=\"Committee-based Sampling (Vote Entropy)\", marker='^', linestyle='-', color='red')\n",
    "\n",
    "plt.xlabel('Iteration')\n",
    "plt.ylabel('Accuracy (%)')\n",
    "plt.title('Comparison of Active Learning Strategies')\n",
    "plt.legend(loc=\"lower right\")\n",
    "plt.grid(True)\n",
    "plt.xticks(iterations)\n",
    "plt.show()"
   ]
<<<<<<< HEAD
=======
  },
  {
   "cell_type": "markdown",
   "metadata": {},
   "source": [
    "3) Analyze which method leads to the most cost-effective improvement in accuracy."
   ]
  },
  {
   "cell_type": "markdown",
   "metadata": {},
   "source": [
    "- **Random Sampling:** Simple to implement but inefficient; may not significantly enhance accuracy.  \n",
    "- **Uncertainty Sampling:** More efficient as it prioritizes challenging samples, accelerating learning.  \n",
    "- **Query-by-Committee:** Computationally demanding but can improve generalization if model disagreements are meaningful."
   ]
  },
  {
   "cell_type": "markdown",
   "metadata": {},
   "source": [
    "4) Discuss findings and limitations in a brief report."
   ]
  },
  {
   "cell_type": "markdown",
   "metadata": {},
   "source": [
    " **Findings:**  \n",
    "- **Query-by-Committee** achieved the highest final accuracy but required significant computational resources.  \n",
    "- **Uncertainty Sampling** improved accuracy more quickly than **Random Sampling** but was prone to noise sensitivity.  \n",
    "- **Random Sampling** showed the slowest improvement and was the least efficient.  \n",
    "\n",
    " **Limitations:**  \n",
    "- Accuracy fluctuations due to the small initial training set.  \n",
    "- **Uncertainty Sampling** was vulnerable to mislabeled samples, affecting performance.  \n",
    "- **Query-by-Committee** incurred high computational costs due to training multiple models."
   ]
  },
  {
   "cell_type": "markdown",
   "metadata": {},
   "source": [
    "**Conclusion**  \n",
    "For a balance of efficiency and accuracy in cost-effective active learning, *Uncertainty Sampling* is the best choice. However, if computational cost isn't a limiting factor, *Query-by-Committee* delivers the highest final accuracy. "
   ]
>>>>>>> a3fb6b354666b512eb6565d18304c8994e8f2a55
  }
 ],
 "metadata": {
  "kernelspec": {
   "display_name": "Python 3",
   "language": "python",
   "name": "python3"
  },
  "language_info": {
   "codemirror_mode": {
    "name": "ipython",
    "version": 3
   },
   "file_extension": ".py",
   "mimetype": "text/x-python",
   "name": "python",
   "nbconvert_exporter": "python",
   "pygments_lexer": "ipython3",
   "version": "3.11.5"
  }
 },
 "nbformat": 4,
 "nbformat_minor": 2
}
